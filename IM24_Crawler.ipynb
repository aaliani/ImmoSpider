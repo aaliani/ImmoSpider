{
 "cells": [
  {
   "cell_type": "code",
   "execution_count": 143,
   "metadata": {},
   "outputs": [],
   "source": [
    "#!pip install selenium\n",
    "from selenium import webdriver\n",
    "from selenium.webdriver.chrome.options import Options\n",
    "from selenium.webdriver.common.by import By\n",
    "from selenium.webdriver.support.ui import WebDriverWait\n",
    "from selenium.webdriver.support import expected_conditions as EC\n",
    "from selenium.webdriver.support.ui import Select\n",
    "\n",
    "# CHROME_PATH = '/usr/bin/google-chrome'\n",
    "CHROMEDRIVER_PATH = '/usr/bin/chromedriver'\n",
    "# WINDOW_SIZE = \"1920,1080\"\n",
    "#CHROMEDRIVER_PATH = '/snap/chromium/958/usr/lib/chromium-browser/chromedriver'\n",
    "\n",
    "chrome_options = Options()  \n",
    "# chrome_options.add_argument(\"--headless\")\n",
    "chrome_options.add_argument('--ignore-certificate-errors')\n",
    "chrome_options.add_argument(\"--test-type\")\n",
    "# chrome_options.add_argument(\"--window-size=%s\" % WINDOW_SIZE)\n",
    "# chrome_options.binary_location = CHROME_PATH\n",
    "\n",
    "driver = webdriver.Chrome(executable_path=CHROMEDRIVER_PATH,\n",
    "                          options=chrome_options\n",
    "                         )"
   ]
  },
  {
   "cell_type": "code",
   "execution_count": null,
   "metadata": {},
   "outputs": [],
   "source": [
    "# htnjtps://www.deutsche-wohnen.com/expose/object/1153/1444/0419/\n",
    "# https://www.deutsche-wohnen.com/expose/object/1324/0001/0266/\n",
    "# https://www.deutsche-wohnen.com/expose/object/1324/0001/0254/"
   ]
  },
  {
   "cell_type": "code",
   "execution_count": 31,
   "metadata": {},
   "outputs": [],
   "source": [
    "url = 'https://www.deutsche-wohnen.com/mieten/mietangebote/zuhause-mieten/#infrastructure=balconies&infrastructure=kitchen&infrastructure=elevator&infrastructure=bathtub&flatTypes=level&commercializationType=rent&utilizationType=flat&location=Berlin%20-%2010178&radius=5&area=50&price=700&rooms=2'\n",
    "url = 'https://www.deutsche-wohnen.com/mieten/mietangebote/zuhause-mieten/#infrastructure=balconies&infrastructure=kitchen&infrastructure=elevator&infrastructure=bathtub&flatTypes=level&commercializationType=rent&utilizationType=flat&location=Berlin%20-%2012053&radius=5&area=50&price=700&rooms=2'\n",
    "im24url = 'https://www.immobilienscout24.de/Suche/shape/wohnung-mieten?shape=e3BsX0l1ZGBwQWpvQG9NZ0RrdUFoeUB8TH5Ab1tgbUBjdEBsTGVzQWFFY1B6TGdJbE1nUnxKYUNqSGJFckJsRGxNbk5wQ2NQekZfXGpMeVl7QnNHeUd5S2tSfVN9UW9rQGtGZXVAUHdAcFNteUB8Q3twQHBDb3BBeUppb0BnQGdfQHBRbUZwQXdNcEF9eEBoQmtwQGpNb1ViSHVQcFV1ZkB8U2NPaE99YkByQnNPcEF7SmhGYURwV3xFYkpjQXpoQGpaeFl7Un5OdVd2SnNXeEp9eEB9QnNHU3lZc1VzVndacUd7R2NBeUdmQ3NCfExtakBwYUFfVHhHZWpAZlB5SXFrQGdnQHZYZ1RiSGFHfUZ_T3NRa01xa0BfTm9Val5jfEByUWtfQWRFYVV5TmNjQHFOcWBAdV5oYUBxVHpLe1Z_VGNJYEB1TWNIb1N0R2tBeUNhTGZKZ1RySG9VcGtAX2JAamtAfVB7Y0B3SmNed0txXWVVZ1hjSX1Ua05nSX1RP29GYGRAcUJydEBHck13WGFDa2pBYkF9UnhKZUV2WHJAYnNAY0FadU5sW2tMck9xd0BsaEF9U2JoQXdDclFxTnx0QGhDaHBAWnJhQFV6YUByQXBsQGNBdFhpT3pJfkZ6TGxEcEdoQn5GdkJsTW1KcE5lQ2haZ0Z4WHlFektnQm5GZ0JoaEB9QG5rQHBBYlZqTXppQGpLcFVxYUBkckFSblZqXXxEYnRAdXVAelJpW3pKd0xwRm9NalliXmJLfExiZ0B2UXBRbltoR3JQX0R6bEBoQWRQelt8VUFSfUxge0F7SX5vQElod0B8QWRJblZuY0BwYkFlSX5dbkY.&haspromotion=false&numberofrooms=2.0-&price=-500.0&livingspace=50.0-&enteredFrom=result_list#/'\n",
    "#url = 'https://www.deutsche-wohnen.com/mieten/mietangebote/zuhause-mieten/#infrastructure=balconies&infrastructure=kitchen&infrastructure=elevator&infrastructure=bathtub&flatTypes=level&commercializationType=rent&utilizationType=flat&location=Berlin%20-%2010969&radius=50&area=40&price=1500&rooms=1'\n",
    "#url = 'https://www.deutsche-wohnen.com/mieten/mietangebote/zuhause-mieten/#commercializationType=rent&utilizationType=flat&location=Berlin%20-%2010969&radius=50&area=40&price=1500&rooms=1'\n",
    "\n",
    "\n",
    "working_url = 'https://www.deutsche-wohnen.com/mieten/mietangebote/zuhause-mieten/#commercializationType=rent&utilizationType=flat&location=Berlin%20-%2012053&radius=5&area=50&price=700&rooms=2'\n",
    "\n",
    "driver.get(im24url)"
   ]
  },
  {
   "cell_type": "code",
   "execution_count": 36,
   "metadata": {},
   "outputs": [
    {
     "data": {
      "text/plain": [
       "['https://www.immobilienscout24.de/expose/115063864',\n",
       " 'https://www.immobilienscout24.de/expose/114221993']"
      ]
     },
     "execution_count": 36,
     "metadata": {},
     "output_type": "execute_result"
    }
   ],
   "source": [
    "ads = driver.find_elements_by_class_name('result-list__listing')\n",
    "\n",
    "links = []\n",
    "\n",
    "for ad in ads:\n",
    "    try:\n",
    "        links.append(ad.find_element_by_tag_name('a').get_attribute('href'))\n",
    "    except: continue\n",
    "    \n",
    "links"
   ]
  },
  {
   "cell_type": "code",
   "execution_count": 37,
   "metadata": {},
   "outputs": [],
   "source": [
    "for link in links:\n",
    "    driver.get(link)"
   ]
  },
  {
   "cell_type": "code",
   "execution_count": 50,
   "metadata": {},
   "outputs": [],
   "source": [
    "contact_area = driver.find_element_by_class_name('is24-contact-bar-area')\n",
    "agent_name = driver.find_element_by_css_selector('.style__realtorInfoNameAndRatingContainer___327eu div').get_attribute('innerHTML')\n",
    "contact_btn = contact_area.find_element_by_class_name('button-primary')\n",
    "\n",
    ".click() #.get_attribute('innerHTML')\n",
    "#find_element_by_xpath(\".//ancestor\")"
   ]
  },
  {
   "cell_type": "code",
   "execution_count": 57,
   "metadata": {},
   "outputs": [],
   "source": [
    "def get_name(driver):\n",
    "    \n",
    "    h4 = driver.find_elements_by_css_selector('h4')\n",
    "\n",
    "    for h in h4:\n",
    "        t = h.get_attribute('innerHTML').strip()\n",
    "        if t.startswith('Kontaktanfrage'):\n",
    "            name = t.replace('Kontaktanfrage an ', '')\n",
    "    \n",
    "    return name"
   ]
  },
  {
   "cell_type": "code",
   "execution_count": 76,
   "metadata": {},
   "outputs": [
    {
     "data": {
      "text/plain": [
       "\"driver.find_element_by_css_selector(submit_btn_css).click() # get_attribute('innerHTML')\\ne = WebDriverWait(driver, 5).until(EC.presence_of_element_located((By.CSS_SELECTOR, submit_btn_css)))\\ndriver.find_element_by_css_selector(submit_btn_css).get_attribute('innerHTML')\\n\""
      ]
     },
     "execution_count": 76,
     "metadata": {},
     "output_type": "execute_result"
    }
   ],
   "source": [
    "contact_postfix = '#/basicContact/email'\n",
    "\n",
    "driver.get(link + contact_postfix)\n",
    "\n",
    "name = get_name(driver)\n",
    "\n",
    "msg = \"\"\"Hallo %s,\n",
    "\n",
    "Ich habe große Interesse an diesem Objekt.\n",
    "\n",
    "Ich habe gerade nach Berlin umgezogen, um meine neue Arbeit zu anfangen. Ich Arbeite als Solutions Engineer im IT Bereich. Ich suche jetzt eine langfristige Wohnung. Dieses Objekt hat insbesondere mein Interesse geweckt.\n",
    "\n",
    "Ich verdiene Brutto 3500 € Gehalt pro Monat mit meiner neuen Arbeit. Alle Unterlagen können sie auf diesem Link finden:\n",
    "https://drive.google.com/file/d/1-rjEFWsQZ6tE2Jt5QhyX16_nBxPHSkqe/view\n",
    "\n",
    "Also, wenn verfügbar, bitte mir rückmelden. Ich habe große Interesse! \n",
    "\n",
    "Ich freue mich auf Ihre Rückmeldung.\n",
    "\n",
    "Viele Grüße\n",
    "Aqeel\"\"\" % name\n",
    "\n",
    "msg_field = {'id': 'contactForm-Message', 'val': msg}\n",
    "salutation = {'id': 'contactForm-salutation', 'val': 'MALE'}\n",
    "firstname = {'id': 'contactForm-firstName', 'val': 'Aqeel'}\n",
    "lastname = {'id': 'contactForm-lastName', 'val': 'Aliani'}\n",
    "email = {'id': 'contactForm-emailAddress', 'val': 'aqeel.aliani@gmail.com'}\n",
    "phone = {'id': 'contactForm-phoneNumber', 'val': '17681000781'}\n",
    "street = {'id': 'contactForm-street', 'val': 'Wittstocker Str.'}\n",
    "house_no = {'id': 'contactForm-houseNumber', 'val': '3'}\n",
    "plz = {'id': 'contactForm-postcode', 'val': '10553'}\n",
    "city = {'id': 'contactForm-city', 'val': 'Berlin'}\n",
    "\n",
    "submit_btn_css = '.contentContainer button.button-primary'\n",
    "\n",
    "fields = [msg_field, firstname, lastname, email, phone, street, house_no, plz, city]\n",
    "\n",
    "for field in fields:\n",
    "    driver.find_element_by_id(field['id']).send_keys(field['val'])\n",
    "\n",
    "Select(driver.find_element_by_id(salutation['id'])).select_by_value(salutation['val'])\n",
    "\n",
    "'''driver.find_element_by_css_selector(submit_btn_css).click() # get_attribute('innerHTML')\n",
    "e = WebDriverWait(driver, 5).until(EC.presence_of_element_located((By.CSS_SELECTOR, submit_btn_css)))\n",
    "driver.find_element_by_css_selector(submit_btn_css).get_attribute('innerHTML')\n",
    "'''\n"
   ]
  },
  {
   "cell_type": "code",
   "execution_count": 81,
   "metadata": {},
   "outputs": [],
   "source": [
    "move_in = {'id' : 'contactForm-moveInDateType', 'val': 'FLEXIBLE'}\n",
    "pets = {'id' : 'contactForm-petsInHousehold', 'val': 'Keine'}\n",
    "employment = {'id' : 'contactForm-employmentRelationship', 'val': 'WORKER'}\n",
    "income = {'id' : 'contactForm-income', 'val': 'OVER_2000_UPTO_3000'}\n",
    "documents = {'id' : 'contactForm-applicationPackageCompleted', 'val': 'true'}\n",
    "\n",
    "policycheck_class = 'label-checkbox'\n",
    "\n",
    "driver.find_element_by_id(pets['id']).send_keys(pets['val'])\n",
    "driver.find_element_by_class_name(policycheck_class).click()\n",
    "\n",
    "for field in [move_in, employment, income, documents]:\n",
    "    Select(driver.find_element_by_id(field['id'])).select_by_value(field['val'])"
   ]
  },
  {
   "cell_type": "code",
   "execution_count": 27,
   "metadata": {},
   "outputs": [],
   "source": [
    "driver.close()"
   ]
  },
  {
   "cell_type": "code",
   "execution_count": 132,
   "metadata": {},
   "outputs": [],
   "source": [
    "all_vals =[]\n"
   ]
  },
  {
   "cell_type": "code",
   "execution_count": 144,
   "metadata": {},
   "outputs": [
    {
     "name": "stdout",
     "output_type": "stream",
     "text": [
      "{'obj_floor': '5', 'obj_numberOfFloors': '5', 'obj_heatingType': 'central_heating', 'obj_energyEfficiencyClass': 'E', 'obj_energyType': 'energy_required', 'obj_thermalChar': '146.4', 'obj_pricetrend': '6.36', 'obj_pricetrendbuy': '11.28', 'obj_pricetrendrent': '6.36', 'obj_yearConstructed': '1960'}\n",
      "{'obj_numberOfFloors': '4', 'obj_heatingType': 'central_heating', 'obj_energyEfficiencyClass': 'NO_INFORMATION', 'obj_energyType': 'energy_required', 'obj_thermalChar': '45', 'obj_pricetrend': '5.42', 'obj_pricetrendbuy': '10.8', 'obj_pricetrendrent': '5.42', 'obj_yearConstructed': '2019'}\n",
      "{'obj_floor': '4', 'obj_numberOfFloors': '5', 'obj_heatingType': 'central_heating', 'obj_energyType': 'energy_consumption', 'obj_thermalChar': '153.4', 'obj_pricetrend': '6.36', 'obj_pricetrendbuy': '11.28', 'obj_pricetrendrent': '6.36', 'obj_yearConstructed': '1910'}\n",
      "https://www.immobilienscout24.de/expose/115008352\n",
      "{'obj_floor': '2', 'obj_heatingType': 'central_heating', 'obj_energyEfficiencyClass': 'F', 'obj_energyType': 'energy_consumption', 'obj_thermalChar': '177.5', 'obj_pricetrend': '6.36', 'obj_pricetrendbuy': '11.28', 'obj_pricetrendrent': '6.36', 'obj_yearConstructed': '1900'}\n",
      "{'obj_floor': '7', 'obj_numberOfFloors': '7', 'obj_heatingType': 'no_information', 'obj_energyEfficiencyClass': 'NO_INFORMATION', 'obj_energyType': 'energy_consumption', 'obj_thermalChar': '154.8', 'obj_pricetrend': '10.53', 'obj_pricetrendbuy': '17.01', 'obj_pricetrendrent': '10.53', 'obj_yearConstructed': '1977'}\n",
      "{'obj_floor': '4', 'obj_numberOfFloors': '5', 'obj_heatingType': 'central_heating', 'obj_energyType': 'energy_consumption', 'obj_thermalChar': '153.4', 'obj_pricetrend': '6.36', 'obj_pricetrendbuy': '11.28', 'obj_pricetrendrent': '6.36', 'obj_yearConstructed': '1910'}\n",
      "{'obj_floor': '3', 'obj_numberOfFloors': '3', 'obj_heatingType': 'central_heating', 'obj_pricetrend': '7.78', 'obj_pricetrendbuy': '11.37', 'obj_pricetrendrent': '7.78'}\n",
      "{'obj_floor': '2', 'obj_heatingType': 'district_heating', 'obj_energyType': 'energy_consumption', 'obj_thermalChar': '151', 'obj_pricetrend': '8.21', 'obj_pricetrendbuy': '12.09', 'obj_pricetrendrent': '8.21', 'obj_yearConstructed': '1961'}\n",
      "{'obj_floor': '3', 'obj_numberOfFloors': '3', 'obj_heatingType': 'central_heating', 'obj_pricetrend': '7.78', 'obj_pricetrendbuy': '11.37', 'obj_pricetrendrent': '7.78'}\n"
     ]
    }
   ],
   "source": [
    "import pandas as pd\n",
    "import numpy as np\n",
    "\n",
    "file = '/home/aqeel/Dev/ImmoSpider/test2.csv'\n",
    "df = pd.read_csv(file)\n",
    "\n",
    "link = 'https://www.immobilienscout24.de/expose/114467257' #df.url[5]\n",
    "\n",
    "rand = np.random.choice(df.url, 10)\n",
    "\n",
    "for link in rand:\n",
    "    \n",
    "    driver.get(link)\n",
    "    try: \n",
    "        vals = ast.literal_eval(driver.find_element_by_tag_name('s24-ad-targeting').get_attribute('innerHTML').strip())\n",
    "        all_vals.append(vals)\n",
    "    except:\n",
    "        print(link)\n",
    "        continue\n",
    "    \n",
    "    keys = {}\n",
    "    \n",
    "    for k in ['obj_floor', 'obj_numberOfFloors', 'obj_heatingType', 'obj_energyEfficiencyClass',\n",
    "              'obj_energyType', 'obj_thermalChar', 'obj_pricetrend', 'obj_pricetrendbuy',\n",
    "              'obj_pricetrendrent', 'obj_yearConstructed']:\n",
    "        try:\n",
    "            keys[k] = vals[k]\n",
    "        except:\n",
    "            continue\n",
    "\n",
    "    print(keys)\n",
    "\n",
    "#type(driver.page_source)"
   ]
  },
  {
   "cell_type": "code",
   "execution_count": 124,
   "metadata": {},
   "outputs": [
    {
     "data": {
      "text/plain": [
       "{'obj_regio1': 'Berlin',\n",
       " 'obj_serviceCharge': '142',\n",
       " 'obj_heatingType': 'district_heating',\n",
       " 'obj_telekomTvOffer': 'ONE_YEAR_FREE',\n",
       " 'obj_cId': '18308411',\n",
       " 'obj_newlyConst': 'n',\n",
       " 'obj_balcony': 'y',\n",
       " 'obj_picture': 'https://pictures.immobilienscout24.de/listings/2b06516a-07f2-4c0f-ac7f-2a482eb4e20b-1333749452.jpg/ORIG/resize/118x118%3E/extent/118x118/format/jpg/quality/80',\n",
       " 'obj_picturecount': '15',\n",
       " 'obj_pricetrend': '8.21',\n",
       " 'obj_telekomUploadSpeed': '40 MBit/s',\n",
       " 'obj_totalRent': '565.42',\n",
       " 'obj_telekomTrackingGroup': 'telekom_layer_magenta_l',\n",
       " 'obj_telekomInternetTechnology': 'über VDSL',\n",
       " 'obj_yearConstructed': '1979',\n",
       " 'obj_telekomInternetType': 'REGULAR',\n",
       " 'obj_pricetrendbuy': '12.09',\n",
       " 'obj_scoutId': '114467257',\n",
       " 'obj_firingTypes': 'district_heating',\n",
       " 'obj_hasKitchen': 'n',\n",
       " 'obj_ExclusiveExpose': 'false',\n",
       " 'obj_telekomInternetProductName': 'MagentaZuhause L',\n",
       " 'geo_bln': 'Berlin',\n",
       " 'obj_cellar': 'y',\n",
       " 'obj_yearConstructedRange': '3',\n",
       " 'obj_baseRent': '368.42',\n",
       " 'obj_houseNumber': '49',\n",
       " 'obj_energyType': 'energy_consumption',\n",
       " 'obj_pricetrendrent': '8.21',\n",
       " 'obj_livingSpace': '53.55',\n",
       " 'geo_krs': 'Berlin',\n",
       " 'obj_zipCode': '10967',\n",
       " 'obj_condition': 'refurbished',\n",
       " 'obj_interiorQual': 'normal',\n",
       " 'obj_petsAllowed': 'negotiable',\n",
       " 'ga_cd_cxp_historicallisting': 'false',\n",
       " 'obj_telekomDownloadSpeed': '100 MBit/s',\n",
       " 'obj_street': 'Graefestraße',\n",
       " 'obj_lift': 'y',\n",
       " 'obj_depositLink': 'n',\n",
       " 'obj_baseRentRange': '2',\n",
       " 'obj_telekomInternetUrlMobile': 'https://padlock.link/ioml',\n",
       " 'obj_telekomInternetUrl': 'https://padlock.link/ml',\n",
       " 'obj_streetPlain': 'Graefestraße',\n",
       " 'obj_typeOfFlat': 'apartment',\n",
       " 'geo_plz': '10967',\n",
       " 'obj_noRooms': '2',\n",
       " 'obj_assistedLiving': 'n',\n",
       " 'obj_thermalChar': '133',\n",
       " 'obj_lastRefurbish': '2019',\n",
       " 'obj_ityp': '0,active',\n",
       " 'obj_telekomHdTelephone': 'true',\n",
       " 'geo_land': 'Deutschland',\n",
       " 'ga_cd_via': 'standard',\n",
       " 'obj_telekomInternet': '100 MBit/s',\n",
       " 'obj_immotype': 'wohnung_miete',\n",
       " 'obj_heatingCosts': '55',\n",
       " 'obj_floor': '1',\n",
       " 'obj_telekomInternetServices': 'web,email,bank,music,dl-ul,game,sd,mltstr,hd,fast-ul-dl',\n",
       " 'obj_telekomInternetProductAvailable': 'true',\n",
       " 'obj_cwId': '002.01009123282',\n",
       " 'ga_cd_application_requirements': 'profile0',\n",
       " 'obj_numberOfFloors': '7',\n",
       " 'obj_noRoomsRange': '2',\n",
       " 'ga_cd_maillead_default_shown': 'true',\n",
       " 'obj_garden': 'n',\n",
       " 'evt_count_pm_sig': 'showqualicontactform',\n",
       " 'obj_barrierFree': 'n',\n",
       " 'obj_regio3': 'Kreuzberg_Kreuzberg',\n",
       " 'obj_objectnumber': '015',\n",
       " 'obj_livingSpaceRange': '2',\n",
       " 'obj_regio2': 'Berlin'}"
      ]
     },
     "execution_count": 124,
     "metadata": {},
     "output_type": "execute_result"
    }
   ],
   "source": [
    "import ast\n",
    "#vals = driver.execute_script('return document.copyObj')\n",
    "\n",
    "vals = ast.literal_eval(driver.find_element_by_tag_name('s24-ad-targeting').get_attribute('innerHTML').strip())\n",
    "\n",
    "print(vals['obj_floor'], vals['obj_numberOfFloors'])"
   ]
  },
  {
   "cell_type": "code",
   "execution_count": 141,
   "metadata": {},
   "outputs": [
    {
     "name": "stdout",
     "output_type": "stream",
     "text": [
      "evt_count_pm_sig\n",
      "ga_cd_application_requirements\n",
      "ga_cd_cxp_historicallisting\n",
      "ga_cd_maillead_default_shown\n",
      "ga_cd_via\n",
      "ga_cd_via_qualified\n",
      "geo_bln\n",
      "geo_krs\n",
      "geo_land\n",
      "geo_plz\n",
      "obj_ExclusiveExpose\n",
      "obj_assistedLiving\n",
      "obj_balcony\n",
      "obj_barrierFree\n",
      "obj_baseRent\n",
      "obj_baseRentRange\n",
      "obj_cId\n",
      "obj_cellar\n",
      "obj_condition\n",
      "obj_cwId\n",
      "obj_depositLink\n",
      "obj_energyEfficiencyClass\n",
      "obj_energyType\n",
      "obj_firingTypes\n",
      "obj_floor\n",
      "obj_galleryAd\n",
      "obj_garden\n",
      "obj_groupnumber\n",
      "obj_hasKitchen\n",
      "obj_heatingCosts\n",
      "obj_heatingType\n",
      "obj_houseNumber\n",
      "obj_immotype\n",
      "obj_interiorQual\n",
      "obj_ityp\n",
      "obj_lastRefurbish\n",
      "obj_lift\n",
      "obj_livingSpace\n",
      "obj_livingSpaceRange\n",
      "obj_newlyConst\n",
      "obj_noRooms\n",
      "obj_noRoomsRange\n",
      "obj_numberOfFloors\n",
      "obj_objectnumber\n",
      "obj_petsAllowed\n",
      "obj_picture\n",
      "obj_picturecount\n",
      "obj_pricetrend\n",
      "obj_pricetrendbuy\n",
      "obj_pricetrendrent\n",
      "obj_regio1\n",
      "obj_regio2\n",
      "obj_regio3\n",
      "obj_scoutId\n",
      "obj_serviceCharge\n",
      "obj_street\n",
      "obj_streetPlain\n",
      "obj_telekomDownloadSpeed\n",
      "obj_telekomHdTelephone\n",
      "obj_telekomInternet\n",
      "obj_telekomInternetProductAvailable\n",
      "obj_telekomInternetProductName\n",
      "obj_telekomInternetServices\n",
      "obj_telekomInternetTechnology\n",
      "obj_telekomInternetType\n",
      "obj_telekomInternetUrl\n",
      "obj_telekomInternetUrlMobile\n",
      "obj_telekomTrackingGroup\n",
      "obj_telekomTvOffer\n",
      "obj_telekomUploadSpeed\n",
      "obj_thermalChar\n",
      "obj_totalRent\n",
      "obj_typeOfFlat\n",
      "obj_yearConstructed\n",
      "obj_yearConstructedRange\n",
      "obj_zipCode\n"
     ]
    }
   ],
   "source": [
    "\"\"\"\n",
    "obj_energyEfficiencyClass\n",
    "obj_energyType\n",
    "obj_floor\n",
    "obj_numberOfFloors\n",
    "obj_pricetrend\n",
    "obj_pricetrendbuy\n",
    "obj_pricetrendrent\n",
    "obj_thermalChar\n",
    "obj_yearConstructed\n",
    "\"\"\"\n",
    "\n",
    "attr = []\n",
    "for v in all_vals:\n",
    "    for k in v.keys():\n",
    "        attr.append(k)\n",
    "        \n",
    "for i in np.unique(attr):\n",
    "    print(i)"
   ]
  },
  {
   "cell_type": "code",
   "execution_count": null,
   "metadata": {},
   "outputs": [],
   "source": []
  }
 ],
 "metadata": {
  "kernelspec": {
   "display_name": "Python 3",
   "language": "python",
   "name": "python3"
  },
  "language_info": {
   "codemirror_mode": {
    "name": "ipython",
    "version": 3
   },
   "file_extension": ".py",
   "mimetype": "text/x-python",
   "name": "python",
   "nbconvert_exporter": "python",
   "pygments_lexer": "ipython3",
   "version": "3.7.4"
  }
 },
 "nbformat": 4,
 "nbformat_minor": 2
}
