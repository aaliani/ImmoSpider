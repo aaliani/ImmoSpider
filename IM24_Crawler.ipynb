{
 "cells": [
  {
   "cell_type": "code",
   "execution_count": 1,
   "metadata": {},
   "outputs": [],
   "source": [
    "#!pip install selenium\n",
    "from selenium import webdriver\n",
    "from selenium.webdriver.chrome.options import Options\n",
    "from selenium.webdriver.common.by import By\n",
    "from selenium.webdriver.support.ui import WebDriverWait\n",
    "from selenium.webdriver.support import expected_conditions as EC\n",
    "from selenium.webdriver.support.ui import Select\n",
    "\n",
    "from datetime import datetime, timedelta\n",
    "import ast\n",
    "import pandas as pd\n",
    "import numpy as np\n",
    "\n",
    "# CHROME_PATH = '/usr/bin/google-chrome'\n",
    "CHROMEDRIVER_PATH = '/usr/bin/chromedriver'\n",
    "# CHROMEDRIVER_PATH = '/Applications/chromedriver'\n",
    "# WINDOW_SIZE = \"1920,1080\"\n",
    "#CHROMEDRIVER_PATH = '/snap/chromium/958/usr/lib/chromium-browser/chromedriver'\n",
    "\n",
    "chrome_options = Options()  \n",
    "# chrome_options.add_argument(\"--headless\")\n",
    "chrome_options.add_argument('--ignore-certificate-errors')\n",
    "chrome_options.add_argument(\"--test-type\")\n",
    "# chrome_options.add_argument(\"--window-size=%s\" % WINDOW_SIZE)\n",
    "# chrome_options.binary_location = CHROME_PATH\n",
    "\n",
    "driver = webdriver.Chrome(executable_path=CHROMEDRIVER_PATH,\n",
    "                          options=chrome_options\n",
    "                         )"
   ]
  },
  {
   "cell_type": "code",
   "execution_count": null,
   "metadata": {},
   "outputs": [],
   "source": [
    "# htnjtps://www.deutsche-wohnen.com/expose/object/1153/1444/0419/\n",
    "# https://www.deutsche-wohnen.com/expose/object/1324/0001/0266/\n",
    "# https://www.deutsche-wohnen.com/expose/object/1324/0001/0254/"
   ]
  },
  {
   "cell_type": "code",
   "execution_count": 2,
   "metadata": {},
   "outputs": [
    {
     "output_type": "execute_result",
     "data": {
      "text/plain": "'2020-06-06T11:03:34'"
     },
     "metadata": {},
     "execution_count": 2
    }
   ],
   "source": [
    "from datetime import datetime, timedelta\n",
    "(datetime.now() - timedelta(hours = 13)).strftime(\"%Y-%m-%dT%H:%M:%S\")"
   ]
  },
  {
   "cell_type": "code",
   "execution_count": 3,
   "metadata": {},
   "outputs": [
    {
     "output_type": "execute_result",
     "data": {
      "text/plain": "'https://www.immobilienscout24.de/Suche/shape/wohnung-mieten?shape=e3BsX0l1ZGBwQWpvQG9NZ0RrdUFoeUB8TH5Ab1tgbUBjdEBsTGVzQWFFY1B6TGdJbE1nUnxKYUNqSGJFckJsRGxNbk5wQ2NQekZfXGpMeVl7QnNHeUd5S2tSfVN9UW9rQGtGZXVAUHdAcFNteUB8Q3twQHBDb3BBeUppb0BnQGdfQHBRbUZwQXdNcEF9eEBoQmtwQGpNb1ViSHVQcFV1ZkB8U2NPaE99YkByQnNPcEF7SmhGYURwV3xFYkpjQXpoQGpaeFl7Un5OdVd2SnNXeEp9eEB9QnNHU3lZc1VzVndacUd7R2NBeUdmQ3NCfExtakBwYUFfVHhHZWpAZlB5SXFrQGdnQHZYZ1RiSGFHfUZ_T3NRa01xa0BfTm9Val5jfEByUWtfQWRFYVV5TmNjQHFOcWBAdV5oYUBxVHpLe1Z_VGNJYEB1TWNIb1N0R2tBeUNhTGZKZ1RySG9VcGtAX2JAamtAfVB7Y0B3SmNed0txXWVVZ1hjSX1Ua05nSX1RP29GYGRAcUJydEBHck13WGFDa2pBYkF9UnhKZUV2WHJAYnNAY0FadU5sW2tMck9xd0BsaEF9U2JoQXdDclFxTnx0QGhDaHBAWnJhQFV6YUByQXBsQGNBdFhpT3pJfkZ6TGxEcEdoQn5GdkJsTW1KcE5lQ2haZ0Z4WHlFektnQm5GZ0JoaEB9QG5rQHBBYlZqTXppQGpLcFVxYUBkckFSblZqXXxEYnRAdXVAelJpW3pKd0xwRm9NalliXmJLfExiZ0B2UXBRbltoR3JQX0R6bEBoQWRQelt8VUFSfUxge0F7SX5vQElod0B8QWRJblZuY0BwYkFlSX5dbkY.&haspromotion=false&numberofrooms=2.0-&price=-600.0&livingspace=50.0-&lastmodification=2020-06-04T00:05:50&sorting=2&enteredFrom=result_list#'"
     },
     "metadata": {},
     "execution_count": 3
    }
   ],
   "source": [
    "url = 'https://www.deutsche-wohnen.com/mieten/mietangebote/zuhause-mieten/#infrastructure=balconies&infrastructure=kitchen&infrastructure=elevator&infrastructure=bathtub&flatTypes=level&commercializationType=rent&utilizationType=flat&location=Berlin%20-%2010178&radius=5&area=50&price=700&rooms=2'\n",
    "url = 'https://www.deutsche-wohnen.com/mieten/mietangebote/zuhause-mieten/#infrastructure=balconies&infrastructure=kitchen&infrastructure=elevator&infrastructure=bathtub&flatTypes=level&commercializationType=rent&utilizationType=flat&location=Berlin%20-%2012053&radius=5&area=50&price=700&rooms=2'\n",
    "im24url = 'https://www.immobilienscout24.de/Suche/shape/wohnung-mieten?shape=e3BsX0l1ZGBwQWpvQG9NZ0RrdUFoeUB8TH5Ab1tgbUBjdEBsTGVzQWFFY1B6TGdJbE1nUnxKYUNqSGJFckJsRGxNbk5wQ2NQekZfXGpMeVl7QnNHeUd5S2tSfVN9UW9rQGtGZXVAUHdAcFNteUB8Q3twQHBDb3BBeUppb0BnQGdfQHBRbUZwQXdNcEF9eEBoQmtwQGpNb1ViSHVQcFV1ZkB8U2NPaE99YkByQnNPcEF7SmhGYURwV3xFYkpjQXpoQGpaeFl7Un5OdVd2SnNXeEp9eEB9QnNHU3lZc1VzVndacUd7R2NBeUdmQ3NCfExtakBwYUFfVHhHZWpAZlB5SXFrQGdnQHZYZ1RiSGFHfUZ_T3NRa01xa0BfTm9Val5jfEByUWtfQWRFYVV5TmNjQHFOcWBAdV5oYUBxVHpLe1Z_VGNJYEB1TWNIb1N0R2tBeUNhTGZKZ1RySG9VcGtAX2JAamtAfVB7Y0B3SmNed0txXWVVZ1hjSX1Ua05nSX1RP29GYGRAcUJydEBHck13WGFDa2pBYkF9UnhKZUV2WHJAYnNAY0FadU5sW2tMck9xd0BsaEF9U2JoQXdDclFxTnx0QGhDaHBAWnJhQFV6YUByQXBsQGNBdFhpT3pJfkZ6TGxEcEdoQn5GdkJsTW1KcE5lQ2haZ0Z4WHlFektnQm5GZ0JoaEB9QG5rQHBBYlZqTXppQGpLcFVxYUBkckFSblZqXXxEYnRAdXVAelJpW3pKd0xwRm9NalliXmJLfExiZ0B2UXBRbltoR3JQX0R6bEBoQWRQelt8VUFSfUxge0F7SX5vQElod0B8QWRJblZuY0BwYkFlSX5dbkY.&haspromotion=false&numberofrooms=2.0-&price=-500.0&livingspace=50.0-&enteredFrom=result_list#/'\n",
    "#url = 'https://www.deutsche-wohnen.com/mieten/mietangebote/zuhause-mieten/#infrastructure=balconies&infrastructure=kitchen&infrastructure=elevator&infrastructure=bathtub&flatTypes=level&commercializationType=rent&utilizationType=flat&location=Berlin%20-%2010969&radius=50&area=40&price=1500&rooms=1'\n",
    "#url = 'https://www.deutsche-wohnen.com/mieten/mietangebote/zuhause-mieten/#commercializationType=rent&utilizationType=flat&location=Berlin%20-%2010969&radius=50&area=40&price=1500&rooms=1'\n",
    "\n",
    "urlbase = 'https://www.immobilienscout24.de/Suche/shape/wohnung-mieten'\n",
    "\n",
    "shape_id = 'e3BsX0l1ZGBwQWpvQG9NZ0RrdUFoeUB8TH5Ab1tgbUBjdEBsTGVzQWFFY1B6TGdJbE1nUnxKYUNqSGJFckJsRGxNbk5wQ2NQekZfXGpMeVl7QnNHeUd5S2tSfVN9UW9rQGtGZXVAUHdAcFNteUB8Q3twQHBDb3BBeUppb0BnQGdfQHBRbUZwQXdNcEF9eEBoQmtwQGpNb1ViSHVQcFV1ZkB8U2NPaE99YkByQnNPcEF7SmhGYURwV3xFYkpjQXpoQGpaeFl7Un5OdVd2SnNXeEp9eEB9QnNHU3lZc1VzVndacUd7R2NBeUdmQ3NCfExtakBwYUFfVHhHZWpAZlB5SXFrQGdnQHZYZ1RiSGFHfUZ_T3NRa01xa0BfTm9Val5jfEByUWtfQWRFYVV5TmNjQHFOcWBAdV5oYUBxVHpLe1Z_VGNJYEB1TWNIb1N0R2tBeUNhTGZKZ1RySG9VcGtAX2JAamtAfVB7Y0B3SmNed0txXWVVZ1hjSX1Ua05nSX1RP29GYGRAcUJydEBHck13WGFDa2pBYkF9UnhKZUV2WHJAYnNAY0FadU5sW2tMck9xd0BsaEF9U2JoQXdDclFxTnx0QGhDaHBAWnJhQFV6YUByQXBsQGNBdFhpT3pJfkZ6TGxEcEdoQn5GdkJsTW1KcE5lQ2haZ0Z4WHlFektnQm5GZ0JoaEB9QG5rQHBBYlZqTXppQGpLcFVxYUBkckFSblZqXXxEYnRAdXVAelJpW3pKd0xwRm9NalliXmJLfExiZ0B2UXBRbltoR3JQX0R6bEBoQWRQelt8VUFSfUxge0F7SX5vQElod0B8QWRJblZuY0BwYkFlSX5dbkY.'\n",
    "\n",
    "t = (datetime.now() - timedelta(hours = 72)).strftime(\"%Y-%m-%dT%H:%M:%S\")\n",
    "\n",
    "params = ['haspromotion=false',\n",
    "'numberofrooms=2.0-',\n",
    "'price=-600.0',\n",
    "'livingspace=50.0-',\n",
    "'lastmodification=%s'%t,\n",
    "'sorting=2',\n",
    "'enteredFrom=result_list#']\n",
    "\n",
    "working_url = 'https://www.deutsche-wohnen.com/mieten/mietangebote/zuhause-mieten/#commercializationType=rent&utilizationType=flat&location=Berlin%20-%2012053&radius=5&area=50&price=700&rooms=2'\n",
    "\n",
    "# driver.get(im24url)\n",
    "\n",
    "\"%s?shape=%s&%s\"%(urlbase,shape_id,\"&\".join(params))"
   ]
  },
  {
   "cell_type": "code",
   "execution_count": 4,
   "metadata": {},
   "outputs": [
    {
     "output_type": "execute_result",
     "data": {
      "text/plain": "['https://www.immobilienscout24.de/expose/119241490',\n 'https://www.immobilienscout24.de/expose/119215738',\n 'https://www.immobilienscout24.de/expose/119196235',\n 'https://www.immobilienscout24.de/expose/119196233',\n 'https://www.immobilienscout24.de/expose/113821817',\n 'https://www.immobilienscout24.de/expose/119153178']"
     },
     "metadata": {},
     "execution_count": 4
    }
   ],
   "source": [
    "url = \"%s?shape=%s&%s\"%(urlbase,shape_id,\"&\".join(params))\n",
    "# url = \"https://www.immobilienscout24.de/Suche/shape/wohnung-mieten?&numberofrooms=3.0-&sorting=2&enteredFrom=result_list#\"\n",
    "driver.get(url)\n",
    "ads = driver.find_elements_by_class_name('result-list__listing')\n",
    "\n",
    "links = []\n",
    "\n",
    "for ad in ads:\n",
    "    try:\n",
    "        links.append(ad.find_element_by_tag_name('a').get_attribute('href'))\n",
    "    except: continue\n",
    "    \n",
    "links"
   ]
  },
  {
   "cell_type": "code",
   "execution_count": 49,
   "metadata": {},
   "outputs": [
    {
     "name": "stdout",
     "output_type": "stream",
     "text": "Frau V. Joschko\nHerr Dr. Ingo Blöink\n. Privatvermieter\nHerr Paul Sembach\n- Vermietung -\nFrau Katy Bartosova\nFranziska Neumann\nFrau Anastasia Besschelesni\n"
    }
   ],
   "source": [
    "for link in links:\n",
    "    driver.get(link)\n",
    "    print(driver.find_element_by_xpath(\"//*[@data-qa='contactName']\").get_attribute('innerHTML').strip())"
   ]
  },
  {
   "cell_type": "code",
   "execution_count": 5,
   "metadata": {},
   "outputs": [],
   "source": [
    "contact_area = driver.find_element_by_class_name('is24-contact-bar-area')\n",
    "agent_name = driver.find_element_by_css_selector('.style__realtorInfoNameAndRatingContainer___327eu div').get_attribute('innerHTML')\n",
    "contact_btn = contact_area.find_element_by_class_name('button-primary')\n",
    "\n",
    "#.click() #.get_attribute('innerHTML')\n",
    "#find_element_by_xpath(\".//ancestor\")"
   ]
  },
  {
   "cell_type": "code",
   "execution_count": 44,
   "metadata": {},
   "outputs": [
    {
     "data": {
      "text/plain": "'Frau V. Joschko'"
     },
     "execution_count": 44,
     "metadata": {},
     "output_type": "execute_result"
    }
   ],
   "source": [
    "def get_name(driver):\n",
    "    \n",
    "    h4 = driver.find_elements_by_css_selector('h4')\n",
    "\n",
    "    for h in h4:\n",
    "        t = h.get_attribute('innerHTML').strip()\n",
    "        if t.startswith('Kontaktanfrage'):\n",
    "            name = t.replace('Kontaktanfrage an ', '')\n",
    "    \n",
    "    return name\n",
    "\n",
    "driver.find_element_by_xpath(\"//*[@data-qa='contactName']\").get_attribute('innerHTML').strip()"
   ]
  },
  {
   "cell_type": "code",
   "execution_count": 4,
   "metadata": {},
   "outputs": [
    {
     "output_type": "execute_result",
     "data": {
      "text/plain": "' fields = [msg_field, firstname, lastname, email, phone, street, house_no, plz, city]\\n\\ntry:\\n    for field in fields:\\n\\n        driver.find_element_by_id(field[\\'id\\']).clear()\\n        driver.find_element_by_id(field[\\'id\\']).send_keys(field[\\'val\\'])\\n\\n    Select(driver.find_element_by_id(salutation[\\'id\\'])).select_by_value(salutation[\\'val\\'])\\n    \\n    submit_text = driver.find_element_by_css_selector(submit_btn_css).find_element_by_tag_name(\\'span\\').get_attribute(\\'innerHTML\\').strip()            \\n\\n    if submit_text == \\'Weiter\\':\\n\\n        driver.find_element_by_css_selector(submit_btn_css).click()\\n        e = WebDriverWait(driver, 5).until(EC.presence_of_element_located((By.CSS_SELECTOR, submit_btn_css)))\\n\\n        driver.find_element_by_id(pets[\\'id\\']).send_keys(pets[\\'val\\'])\\n        \\n        for field in [move_in, employment, income, documents]:\\n            Select(driver.find_element_by_id(field[\\'id\\'])).select_by_value(field[\\'val\\'])\\n    \\n    driver.find_element_by_class_name(policycheck_class).click()\\n\\n    driver.find_element_by_css_selector(submit_btn_css).click()\\n\\n    print(datetime.now().strftime(\"%Y-%m-%dT%H:%M:%S\"), True)\\n\\nexcept:\\n    print(e)\\n    print(datetime.now().strftime(\"%Y-%m-%dT%H:%M:%S\"), False) '"
     },
     "metadata": {},
     "execution_count": 4
    }
   ],
   "source": [
    "link = np.random.choice(links)\n",
    "\n",
    "contact_postfix = '#/basicContact/email'\n",
    "\n",
    "driver.get(link + contact_postfix)\n",
    "\n",
    "name = driver.find_element_by_xpath(\"//*[@data-qa='contactName']\").get_attribute('innerHTML').strip()\n",
    "\n",
    "'''\n",
    "msg = \"\"\"Hallo %s,\n",
    "\n",
    "Ich habe große Interesse an diesem Objekt.\n",
    "\n",
    "Ich habe gerade nach Berlin umgezogen, um meine neue Arbeit zu anfangen. Ich Arbeite als Solutions Engineer im IT Bereich. Ich suche jetzt eine langfristige Wohnung. Dieses Objekt hat insbesondere mein Interesse geweckt.\n",
    "\n",
    "Ich verdiene Brutto 3500 € Gehalt pro Monat mit meiner neuen Arbeit. Alle Unterlagen können sie auf diesem Link finden:\n",
    "https://drive.google.com/file/d/1-rjEFWsQZ6tE2Jt5QhyX16_nBxPHSkqe/view\n",
    "\n",
    "Also, wenn verfügbar, bitte mir rückmelden. Ich habe große Interesse! \n",
    "\n",
    "Ich freue mich auf Ihre Rückmeldung.\n",
    "\n",
    "Viele Grüße\n",
    "Aqeel\"\"\" % name\n",
    "'''\n",
    "\n",
    "msg = \"\"\"Hallo, \n",
    "\n",
    "Wir sind sehr interessiert. Alles unterlagen finden sie hier: \n",
    "https://drive.google.com/file/d/1pZ7WCJcT4ok8wIIKg1uPCzYJCDVfWvIi/view?usp=sharing \n",
    "\n",
    "Wir frueun uns auf Ihre ruckmeldung. \n",
    "\n",
    "Viele Gruße, \n",
    "Anna und Aqeel\"\"\"\n",
    "\n",
    "msg_field = {'id': 'contactForm-Message', 'val': msg}\n",
    "salutation = {'id': 'contactForm-salutation', 'val': 'MALE'}\n",
    "firstname = {'id': 'contactForm-firstName', 'val': 'Aqeel'}\n",
    "lastname = {'id': 'contactForm-lastName', 'val': 'Aliani'}\n",
    "email = {'id': 'contactForm-emailAddress', 'val': 'aqeel.aliani@gmail.com'}\n",
    "phone = {'id': 'contactForm-phoneNumber', 'val': '17681000781'}\n",
    "street = {'id': 'contactForm-street', 'val': 'Heinrich-Heine-Str'}\n",
    "house_no = {'id': 'contactForm-houseNumber', 'val': '24'}\n",
    "plz = {'id': 'contactForm-postcode', 'val': '10179'}\n",
    "city = {'id': 'contactForm-city', 'val': 'Berlin'}\n",
    "\n",
    "employment = {'id' : 'contactForm-employmentRelationship', 'val': 'WORKER'}\n",
    "income = {'id' : 'contactForm-income', 'val': 'OVER_2000_UPTO_3000'}\n",
    "documents = {'id' : 'contactForm-applicationPackageCompleted', 'val': 'true'}\n",
    "persons = {'id' : 'contactForm-numberOfPersons', 'val': 'TWO_PERSON'}\n",
    "\n",
    "\n",
    "submit_btn_css = '.contentContainer button.button-primary'\n",
    "\n",
    "\"\"\" fields = [msg_field, firstname, lastname, email, phone, street, house_no, plz, city]\n",
    "\n",
    "try:\n",
    "    for field in fields:\n",
    "\n",
    "        driver.find_element_by_id(field['id']).clear()\n",
    "        driver.find_element_by_id(field['id']).send_keys(field['val'])\n",
    "\n",
    "    Select(driver.find_element_by_id(salutation['id'])).select_by_value(salutation['val'])\n",
    "    \n",
    "    submit_text = driver.find_element_by_css_selector(submit_btn_css).find_element_by_tag_name('span').get_attribute('innerHTML').strip()            \n",
    "\n",
    "    if submit_text == 'Weiter':\n",
    "\n",
    "        driver.find_element_by_css_selector(submit_btn_css).click()\n",
    "        e = WebDriverWait(driver, 5).until(EC.presence_of_element_located((By.CSS_SELECTOR, submit_btn_css)))\n",
    "\n",
    "        driver.find_element_by_id(pets['id']).send_keys(pets['val'])\n",
    "        \n",
    "        for field in [move_in, employment, income, documents]:\n",
    "            Select(driver.find_element_by_id(field['id'])).select_by_value(field['val'])\n",
    "    \n",
    "    driver.find_element_by_class_name(policycheck_class).click()\n",
    "\n",
    "    driver.find_element_by_css_selector(submit_btn_css).click()\n",
    "\n",
    "    print(datetime.now().strftime(\"%Y-%m-%dT%H:%M:%S\"), True)\n",
    "\n",
    "except:\n",
    "    print(e)\n",
    "    print(datetime.now().strftime(\"%Y-%m-%dT%H:%M:%S\"), False) \"\"\""
   ]
  },
  {
   "cell_type": "code",
   "execution_count": 7,
   "metadata": {},
   "outputs": [
    {
     "output_type": "stream",
     "name": "stdout",
     "text": "Message: element not interactable\n  (Session info: chrome=80.0.3987.122)\n\nMessage: element not interactable\n  (Session info: chrome=80.0.3987.122)\n\nMessage: element not interactable\n  (Session info: chrome=80.0.3987.122)\n\nMessage: element not interactable\n  (Session info: chrome=80.0.3987.122)\n\n{'id': 'contactForm-income', 'val': 'OVER_2000_UPTO_3000'}\nMessage: element not interactable: Element is not currently visible and may not be manipulated\n  (Session info: chrome=80.0.3987.122)\n\nmove_in:  Message: invalid selector: Unable to locate an element with the xpath expression //*[@id='id='contactForm-privacyPolicyAccepted'] because of the following error:\nSyntaxError: Failed to execute 'evaluate' on 'Document': The string '//*[@id='id='contactForm-privacyPolicyAccepted']' is not a valid XPath expression.\n  (Session info: chrome=80.0.3987.122)\n\nname 'sdriver' is not defined\n2020-05-30T17:41:22 False\nmove_in:  Message: invalid selector: Unable to locate an element with the xpath expression //*[@id='id='contactForm-privacyPolicyAccepted'] because of the following error:\nSyntaxError: Failed to execute 'evaluate' on 'Document': The string '//*[@id='id='contactForm-privacyPolicyAccepted']' is not a valid XPath expression.\n  (Session info: chrome=80.0.3987.122)\n\nname 'sdriver' is not defined\n2020-05-30T17:41:50 False\n"
    }
   ],
   "source": [
    "#driver.find_element_by_css_selector(submit_btn_css).click() # get_attribute('innerHTML')\n",
    "#e = WebDriverWait(driver, 5).until(EC.presence_of_element_located((By.CSS_SELECTOR, submit_btn_css)))\n",
    "#driver.find_element_by_css_selector(submit_btn_css).find_element_by_tag_name('span').get_attribute('innerHTML').strip()\n",
    "\n",
    "fields = [msg_field, firstname, lastname, email, phone, street, house_no, plz, city]\n",
    "\n",
    "for link in links:\n",
    "    \n",
    "    try:\n",
    "        driver.get(link + contact_postfix)\n",
    "\n",
    "        name = driver.find_element_by_xpath(\"//*[@data-qa='contactName']\").get_attribute('innerHTML').strip()\n",
    "\n",
    "        msg = \"\"\"Hallo %s, \n",
    "\n",
    "Wir sind sehr interessiert. Alles unterlagen finden sie hier: \n",
    "https://drive.google.com/file/d/1pZ7WCJcT4ok8wIIKg1uPCzYJCDVfWvIi/view?usp=sharing \n",
    "\n",
    "Wir frueun uns auf Ihre ruckmeldung. \n",
    "\n",
    "Viele Gruße, \n",
    "Anna und Aqeel\"\"\" % name\n",
    "\n",
    "        msg_field = {'id': 'contactForm-Message', 'val': msg}\n",
    "\n",
    "        fields = [msg_field, firstname, lastname, email, phone, street, house_no, plz, city]\n",
    "\n",
    "        for field in fields:\n",
    "            try:\n",
    "                driver.find_element_by_id(field['id']).clear()\n",
    "                driver.find_element_by_id(field['id']).send_keys(field['val'])\n",
    "            except Exception as e:\n",
    "                print(e)\n",
    "                pass\n",
    "\n",
    "        try:\n",
    "            Select(driver.find_element_by_id(salutation['id'])).select_by_value(salutation['val'])\n",
    "        except Exception as e:\n",
    "            print(e)\n",
    "            pass\n",
    "        \n",
    "        submit_text = driver.find_element_by_css_selector(submit_btn_css).find_element_by_tag_name('span').get_attribute('innerHTML').strip()            \n",
    "\n",
    "        if submit_text == 'Weiter':\n",
    "\n",
    "            driver.find_element_by_css_selector(submit_btn_css).click()\n",
    "            e = WebDriverWait(driver, 5).until(EC.presence_of_element_located((By.CSS_SELECTOR, submit_btn_css)))\n",
    "            \n",
    "            for field in [employment, income, documents, persons]:\n",
    "                try:\n",
    "                    WebDriverWait(driver, 5).until(EC.presence_of_element_located((By.ID, field['id'])))\n",
    "                    Select(driver.find_element_by_id(field['id'])).select_by_value(field['val'])\n",
    "                except Exception as e:\n",
    "                    print(field)\n",
    "                    print(e)\n",
    "                    pass\n",
    "\n",
    "            try:\n",
    "                if 'ng-empty' in driver.find_element_by_xpath(\"//*[@id='contactForm-hasPets.no']\").get_attribute('class').split():\n",
    "                    driver.find_element_by_xpath(\"//*[@for='contactForm-hasPets.no']\").click()\n",
    "            except Exception as e:\n",
    "                print('pets: ', e)\n",
    "                pass\n",
    "\n",
    "            try:\n",
    "                if 'ng-empty' in driver.find_element_by_xpath(\"//*[@id='moveInDateType.flex']\").get_attribute('class').split():\n",
    "                    driver.find_element_by_xpath(\"//*[@for='moveInDateType.flex']\").click()\n",
    "            except Exception as e:\n",
    "                print('move_in: ', e)\n",
    "                pass\n",
    "        \n",
    "        try:\n",
    "            if 'ng-empty' in driver.find_element_by_xpath(\"//*[@id='contactForm-privacyPolicyAccepted']\").get_attribute('class').split():\n",
    "                driver.find_element_by_id('contactForm-privacyPolicyText').click()\n",
    "        except Exception as e:\n",
    "            print('move_in: ', e)\n",
    "            pass\n",
    "        \n",
    "        driver.find_element_by_css_selector(submit_btn_css).click()\n",
    "\n",
    "        WebDriverWait(driver, 10).until(EC.presence_of_element_located((By.CSS_SELECTOR, '.status-confirm')))\n",
    "\n",
    "        print(datetime.now().strftime(\"%Y-%m-%dT%H:%M:%S\"), True)\n",
    "\n",
    "    except Exception as e:\n",
    "        print(e)\n",
    "        print(datetime.now().strftime(\"%Y-%m-%dT%H:%M:%S\"), False)\n",
    "        continue\n"
   ]
  },
  {
   "cell_type": "code",
   "execution_count": 81,
   "metadata": {},
   "outputs": [],
   "source": [
    "move_in = {'id' : 'contactForm-moveInDateType', 'val': 'FLEXIBLE'}\n",
    "pets = {'id' : 'contactForm-petsInHousehold', 'val': 'Keine'}\n",
    "employment = {'id' : 'contactForm-employmentRelationship', 'val': 'WORKER'}\n",
    "income = {'id' : 'contactForm-income', 'val': 'OVER_2000_UPTO_3000'}\n",
    "documents = {'id' : 'contactForm-applicationPackageCompleted', 'val': 'true'}\n",
    "\n",
    "policycheck_class = 'label-checkbox'\n",
    "\n",
    "driver.find_element_by_id(pets['id']).send_keys(pets['val'])\n",
    "driver.find_element_by_class_name(policycheck_class).click()\n",
    "\n",
    "for field in [move_in, employment, income, documents]:\n",
    "    Select(driver.find_element_by_id(field['id'])).select_by_value(field['val'])"
   ]
  },
  {
   "cell_type": "code",
   "execution_count": 27,
   "metadata": {},
   "outputs": [],
   "source": [
    "driver.close()"
   ]
  },
  {
   "cell_type": "code",
   "execution_count": 6,
   "metadata": {},
   "outputs": [
    {
     "data": {
      "text/html": "<div>\n<style scoped>\n    .dataframe tbody tr th:only-of-type {\n        vertical-align: middle;\n    }\n\n    .dataframe tbody tr th {\n        vertical-align: top;\n    }\n\n    .dataframe thead th {\n        text-align: right;\n    }\n</style>\n<table border=\"1\" class=\"dataframe\">\n  <thead>\n    <tr style=\"text-align: right;\">\n      <th></th>\n      <th>address</th>\n      <th>area</th>\n      <th>balcony</th>\n      <th>cellar</th>\n      <th>contact_name</th>\n      <th>district</th>\n      <th>elevator</th>\n      <th>extra_costs</th>\n      <th>kitchen</th>\n      <th>rent</th>\n      <th>rooms</th>\n      <th>sqm</th>\n      <th>wg</th>\n      <th>score</th>\n    </tr>\n  </thead>\n  <tbody>\n    <tr>\n      <td>0</td>\n      <td>Afrikanische Str. 4</td>\n      <td>NaN</td>\n      <td>True</td>\n      <td>NaN</td>\n      <td>Jens Kelpin</td>\n      <td>Wedding (Wedding)</td>\n      <td>True</td>\n      <td>190.00</td>\n      <td>False</td>\n      <td>620.00</td>\n      <td>2.0</td>\n      <td>63.05</td>\n      <td>True</td>\n      <td>NaN</td>\n    </tr>\n    <tr>\n      <td>1</td>\n      <td>Schloßstraße 34</td>\n      <td>NaN</td>\n      <td>True</td>\n      <td>NaN</td>\n      <td>NaN</td>\n      <td>Charlottenburg (Charlottenburg)</td>\n      <td>False</td>\n      <td>150.00</td>\n      <td>False</td>\n      <td>699.00</td>\n      <td>1.0</td>\n      <td>53.00</td>\n      <td>False</td>\n      <td>NaN</td>\n    </tr>\n    <tr>\n      <td>2</td>\n      <td>Finowstraße 15</td>\n      <td>NaN</td>\n      <td>True</td>\n      <td>NaN</td>\n      <td>Vermietungsteam Stadthaus Verwaltungsgesellschaft</td>\n      <td>Neukölln (Neukölln)</td>\n      <td>False</td>\n      <td>160.00</td>\n      <td>False</td>\n      <td>639.00</td>\n      <td>2.5</td>\n      <td>67.60</td>\n      <td>True</td>\n      <td>NaN</td>\n    </tr>\n    <tr>\n      <td>3</td>\n      <td>Zillestrasse 19</td>\n      <td>NaN</td>\n      <td>True</td>\n      <td>NaN</td>\n      <td>NaN</td>\n      <td>Charlottenburg (Charlottenburg)</td>\n      <td>True</td>\n      <td>180.00</td>\n      <td>False</td>\n      <td>689.00</td>\n      <td>2.0</td>\n      <td>53.00</td>\n      <td>False</td>\n      <td>NaN</td>\n    </tr>\n    <tr>\n      <td>4</td>\n      <td>Finowstraße 23</td>\n      <td>NaN</td>\n      <td>True</td>\n      <td>NaN</td>\n      <td>Vermietungsteam Stadthaus Verwaltungsgesellschaft</td>\n      <td>Neukölln (Neukölln)</td>\n      <td>False</td>\n      <td>116.00</td>\n      <td>False</td>\n      <td>630.00</td>\n      <td>2.0</td>\n      <td>55.93</td>\n      <td>True</td>\n      <td>NaN</td>\n    </tr>\n    <tr>\n      <td>...</td>\n      <td>...</td>\n      <td>...</td>\n      <td>...</td>\n      <td>...</td>\n      <td>...</td>\n      <td>...</td>\n      <td>...</td>\n      <td>...</td>\n      <td>...</td>\n      <td>...</td>\n      <td>...</td>\n      <td>...</td>\n      <td>...</td>\n      <td>...</td>\n    </tr>\n    <tr>\n      <td>57</td>\n      <td>Conrad-Blenkle-Straße 65</td>\n      <td>NaN</td>\n      <td>False</td>\n      <td>True</td>\n      <td>Martin Meyer</td>\n      <td>Prenzlauer Berg (Prenzlauer Berg)</td>\n      <td>False</td>\n      <td>63.00</td>\n      <td>False</td>\n      <td>510.00</td>\n      <td>1.0</td>\n      <td>48.13</td>\n      <td>False</td>\n      <td>NaN</td>\n    </tr>\n    <tr>\n      <td>58</td>\n      <td>Eichbuschallee 20-30</td>\n      <td>NaN</td>\n      <td>True</td>\n      <td>True</td>\n      <td>A Oelmann</td>\n      <td>Plänterwald (Treptow)</td>\n      <td>False</td>\n      <td>117.85</td>\n      <td>False</td>\n      <td>447.83</td>\n      <td>2.0</td>\n      <td>47.14</td>\n      <td>False</td>\n      <td>NaN</td>\n    </tr>\n    <tr>\n      <td>59</td>\n      <td>Bandelstr. 32</td>\n      <td>NaN</td>\n      <td>True</td>\n      <td>NaN</td>\n      <td>Stephan Papke</td>\n      <td>Tiergarten (Tiergarten)</td>\n      <td>False</td>\n      <td>150.00</td>\n      <td>False</td>\n      <td>465.00</td>\n      <td>2.0</td>\n      <td>50.84</td>\n      <td>False</td>\n      <td>NaN</td>\n    </tr>\n    <tr>\n      <td>60</td>\n      <td>Mommsenstraße 21</td>\n      <td>NaN</td>\n      <td>False</td>\n      <td>True</td>\n      <td>G. Mielke</td>\n      <td>Charlottenburg (Charlottenburg)</td>\n      <td>False</td>\n      <td>115.00</td>\n      <td>True</td>\n      <td>510.00</td>\n      <td>1.5</td>\n      <td>41.00</td>\n      <td>False</td>\n      <td>NaN</td>\n    </tr>\n    <tr>\n      <td>61</td>\n      <td>Ringbahnstraße 5-7</td>\n      <td>NaN</td>\n      <td>False</td>\n      <td>True</td>\n      <td>Belinda Heinike</td>\n      <td>Tempelhof (Tempelhof)</td>\n      <td>True</td>\n      <td>165.00</td>\n      <td>False</td>\n      <td>490.00</td>\n      <td>2.0</td>\n      <td>49.00</td>\n      <td>False</td>\n      <td>NaN</td>\n    </tr>\n  </tbody>\n</table>\n<p>62 rows × 14 columns</p>\n</div>",
      "text/plain": "                     address  area  balcony cellar  \\\n0        Afrikanische Str. 4   NaN     True    NaN   \n1            Schloßstraße 34   NaN     True    NaN   \n2             Finowstraße 15   NaN     True    NaN   \n3            Zillestrasse 19   NaN     True    NaN   \n4             Finowstraße 23   NaN     True    NaN   \n..                       ...   ...      ...    ...   \n57  Conrad-Blenkle-Straße 65   NaN    False   True   \n58      Eichbuschallee 20-30   NaN     True   True   \n59             Bandelstr. 32   NaN     True    NaN   \n60          Mommsenstraße 21   NaN    False   True   \n61        Ringbahnstraße 5-7   NaN    False   True   \n\n                                         contact_name  \\\n0                                         Jens Kelpin   \n1                                                 NaN   \n2   Vermietungsteam Stadthaus Verwaltungsgesellschaft   \n3                                                 NaN   \n4   Vermietungsteam Stadthaus Verwaltungsgesellschaft   \n..                                                ...   \n57                                       Martin Meyer   \n58                                          A Oelmann   \n59                                      Stephan Papke   \n60                                          G. Mielke   \n61                                    Belinda Heinike   \n\n                             district  elevator  extra_costs  kitchen    rent  \\\n0                   Wedding (Wedding)      True       190.00    False  620.00   \n1     Charlottenburg (Charlottenburg)     False       150.00    False  699.00   \n2                 Neukölln (Neukölln)     False       160.00    False  639.00   \n3     Charlottenburg (Charlottenburg)      True       180.00    False  689.00   \n4                 Neukölln (Neukölln)     False       116.00    False  630.00   \n..                                ...       ...          ...      ...     ...   \n57  Prenzlauer Berg (Prenzlauer Berg)     False        63.00    False  510.00   \n58              Plänterwald (Treptow)     False       117.85    False  447.83   \n59            Tiergarten (Tiergarten)     False       150.00    False  465.00   \n60    Charlottenburg (Charlottenburg)     False       115.00     True  510.00   \n61              Tempelhof (Tempelhof)      True       165.00    False  490.00   \n\n    rooms    sqm     wg  score  \n0     2.0  63.05   True    NaN  \n1     1.0  53.00  False    NaN  \n2     2.5  67.60   True    NaN  \n3     2.0  53.00  False    NaN  \n4     2.0  55.93   True    NaN  \n..    ...    ...    ...    ...  \n57    1.0  48.13  False    NaN  \n58    2.0  47.14  False    NaN  \n59    2.0  50.84  False    NaN  \n60    1.5  41.00  False    NaN  \n61    2.0  49.00  False    NaN  \n\n[62 rows x 14 columns]"
     },
     "execution_count": 6,
     "metadata": {},
     "output_type": "execute_result"
    }
   ],
   "source": [
    "import pandas as pd\n",
    "import numpy as np\n",
    "\n",
    "fname = 'apartments.csv' #'/home/aqeel/Dev/ImmoSpider/apartments.csv'\n",
    "df = pd.read_csv(fname)\n",
    "# df\n",
    "# link = 'https://www.immobilienscout24.de/expose/114467257' #df.url[5]\n",
    "\n",
    "rand = np.random.choice(df.url, 10)\n",
    "\n",
    "cols = df.columns\n",
    "newcols = ['total_floors', 'heating_type', 'efficiency_class', 'year_constructed', 'score', 'contacted', 'date_contacted']\n",
    "\n",
    "df = df.reindex(columns = np.concatenate([cols, newcols]))\n",
    "\n",
    "list(df.rent + df.extra_costs)\n",
    "df.columns\n",
    "\n",
    "\n",
    "dcols = ['address', 'area', 'balcony', 'cellar', 'contact_name',\n",
    "       'district', 'elevator', 'extra_costs',\n",
    "       'kitchen', 'rent',\n",
    "       'rooms', 'sqm', 'wg', 'score']\n",
    "\n",
    "df[dcols]"
   ]
  },
  {
   "cell_type": "code",
   "execution_count": 144,
   "metadata": {},
   "outputs": [
    {
     "name": "stdout",
     "output_type": "stream",
     "text": [
      "{'obj_floor': '5', 'obj_numberOfFloors': '5', 'obj_heatingType': 'central_heating', 'obj_energyEfficiencyClass': 'E', 'obj_energyType': 'energy_required', 'obj_thermalChar': '146.4', 'obj_pricetrend': '6.36', 'obj_pricetrendbuy': '11.28', 'obj_pricetrendrent': '6.36', 'obj_yearConstructed': '1960'}\n",
      "{'obj_numberOfFloors': '4', 'obj_heatingType': 'central_heating', 'obj_energyEfficiencyClass': 'NO_INFORMATION', 'obj_energyType': 'energy_required', 'obj_thermalChar': '45', 'obj_pricetrend': '5.42', 'obj_pricetrendbuy': '10.8', 'obj_pricetrendrent': '5.42', 'obj_yearConstructed': '2019'}\n",
      "{'obj_floor': '4', 'obj_numberOfFloors': '5', 'obj_heatingType': 'central_heating', 'obj_energyType': 'energy_consumption', 'obj_thermalChar': '153.4', 'obj_pricetrend': '6.36', 'obj_pricetrendbuy': '11.28', 'obj_pricetrendrent': '6.36', 'obj_yearConstructed': '1910'}\n",
      "https://www.immobilienscout24.de/expose/115008352\n",
      "{'obj_floor': '2', 'obj_heatingType': 'central_heating', 'obj_energyEfficiencyClass': 'F', 'obj_energyType': 'energy_consumption', 'obj_thermalChar': '177.5', 'obj_pricetrend': '6.36', 'obj_pricetrendbuy': '11.28', 'obj_pricetrendrent': '6.36', 'obj_yearConstructed': '1900'}\n",
      "{'obj_floor': '7', 'obj_numberOfFloors': '7', 'obj_heatingType': 'no_information', 'obj_energyEfficiencyClass': 'NO_INFORMATION', 'obj_energyType': 'energy_consumption', 'obj_thermalChar': '154.8', 'obj_pricetrend': '10.53', 'obj_pricetrendbuy': '17.01', 'obj_pricetrendrent': '10.53', 'obj_yearConstructed': '1977'}\n",
      "{'obj_floor': '4', 'obj_numberOfFloors': '5', 'obj_heatingType': 'central_heating', 'obj_energyType': 'energy_consumption', 'obj_thermalChar': '153.4', 'obj_pricetrend': '6.36', 'obj_pricetrendbuy': '11.28', 'obj_pricetrendrent': '6.36', 'obj_yearConstructed': '1910'}\n",
      "{'obj_floor': '3', 'obj_numberOfFloors': '3', 'obj_heatingType': 'central_heating', 'obj_pricetrend': '7.78', 'obj_pricetrendbuy': '11.37', 'obj_pricetrendrent': '7.78'}\n",
      "{'obj_floor': '2', 'obj_heatingType': 'district_heating', 'obj_energyType': 'energy_consumption', 'obj_thermalChar': '151', 'obj_pricetrend': '8.21', 'obj_pricetrendbuy': '12.09', 'obj_pricetrendrent': '8.21', 'obj_yearConstructed': '1961'}\n",
      "{'obj_floor': '3', 'obj_numberOfFloors': '3', 'obj_heatingType': 'central_heating', 'obj_pricetrend': '7.78', 'obj_pricetrendbuy': '11.37', 'obj_pricetrendrent': '7.78'}\n"
     ]
    }
   ],
   "source": [
    "import pandas as pd\n",
    "import numpy as np\n",
    "\n",
    "fname = 'apartments.csv' #'/home/aqeel/Dev/ImmoSpider/apartments.csv'\n",
    "df = pd.read_csv(fname)\n",
    "\n",
    "# link = 'https://www.immobilienscout24.de/expose/114467257' #df.url[5]\n",
    "\n",
    "rand = np.random.choice(df.url, 10)\n",
    "\n",
    "for link in rand:\n",
    "    \n",
    "    driver.get(link)\n",
    "    try: \n",
    "        vals = ast.literal_eval(driver.find_element_by_tag_name('s24-ad-targeting').get_attribute('innerHTML').strip())\n",
    "        # all_vals.append(vals)\n",
    "    except:\n",
    "        print(link)\n",
    "        continue\n",
    "    \n",
    "    keys = {}\n",
    "    \n",
    "    for k in ['obj_floor', 'obj_numberOfFloors', 'obj_heatingType', 'obj_energyEfficiencyClass',\n",
    "              'obj_energyType', 'obj_thermalChar', 'obj_pricetrend', 'obj_pricetrendbuy',\n",
    "              'obj_pricetrendrent', 'obj_yearConstructed']:\n",
    "        try:\n",
    "            keys[k] = vals[k]\n",
    "        except:\n",
    "            continue\n",
    "\n",
    "    print(keys)\n",
    "\n",
    "#type(driver.page_source)"
   ]
  },
  {
   "cell_type": "code",
   "execution_count": 21,
   "metadata": {},
   "outputs": [],
   "source": [
    "import re\n",
    "#driver.get(links[2])\n",
    "data_str = driver.find_element_by_xpath('//*[@id=\"is24-expose-premium-stats-widget\"]/../script').get_attribute('innerHTML').strip()\n",
    "ast.literal_eval(re.findall(r'\"\\S*\"', re.findall(r'exposeOnlineSince: \"\\S*\"', data_str)[0])[0])\n",
    "\n",
    "vals = ast.literal_eval(driver.find_element_by_tag_name('s24-ad-targeting').get_attribute('innerHTML').strip())"
   ]
  },
  {
   "cell_type": "code",
   "execution_count": 28,
   "metadata": {},
   "outputs": [
    {
     "output_type": "execute_result",
     "data": {
      "text/plain": "True"
     },
     "metadata": {},
     "execution_count": 28
    }
   ],
   "source": [
    "title = driver.find_element_by_xpath('//*[@id=\"expose-title\"]').get_attribute('innerHTML').strip()\n",
    "wbs = \"mit wbs\" in title.lower()\n",
    "wbs"
   ]
  },
  {
   "cell_type": "code",
   "execution_count": 39,
   "metadata": {},
   "outputs": [
    {
     "data": {
      "text/plain": "{'obj_regio1': 'Berlin',\n 'obj_serviceCharge': '120',\n 'obj_heatingType': 'night_storage_heater',\n 'obj_telekomTvOffer': 'ONE_YEAR_FREE',\n 'obj_cId': '18658584',\n 'obj_newlyConst': 'n',\n 'obj_balcony': 'y',\n 'obj_picture': 'https://pictures.immobilienscout24.de/listings/4c1c3154-5b2b-40db-b360-9bb46dd1257c-1369708064.jpg/ORIG/resize/118x118%3E/extent/118x118/format/jpg/quality/80',\n 'obj_picturecount': '9',\n 'obj_pricetrend': '8.84',\n 'obj_telekomUploadSpeed': '40 MBit/s',\n 'obj_totalRent': '590',\n 'obj_telekomTrackingGroup': 'telekom_layer_magenta_l',\n 'obj_telekomInternetTechnology': 'über VDSL',\n 'obj_telekomInternetType': 'REGULAR',\n 'obj_pricetrendbuy': '16.54',\n 'obj_scoutId': '118456919',\n 'obj_firingTypes': 'no_information',\n 'obj_hasKitchen': 'y',\n 'obj_ExclusiveExpose': 'false',\n 'obj_telekomInternetProductName': 'MagentaZuhause L',\n 'geo_bln': 'Berlin',\n 'obj_cellar': 'y',\n 'obj_baseRent': '470',\n 'obj_houseNumber': '0',\n 'obj_pricetrendrent': '8.84',\n 'obj_livingSpace': '52',\n 'geo_krs': 'Berlin',\n 'obj_zipCode': '12051',\n 'obj_condition': 'no_information',\n 'obj_interiorQual': 'no_information',\n 'obj_petsAllowed': 'no_information',\n 'ga_cd_cxp_historicallisting': 'false',\n 'obj_telekomDownloadSpeed': '100 MBit/s',\n 'obj_street': 'Walter Str',\n 'obj_lift': 'n',\n 'obj_depositLink': 'y',\n 'obj_baseRentRange': '3',\n 'obj_telekomInternetUrlMobile': 'https://padlock.link/ioml',\n 'obj_telekomInternetUrl': 'https://padlock.link/ml',\n 'obj_streetPlain': 'Walter_Str',\n 'obj_typeOfFlat': 'apartment',\n 'geo_plz': '12051',\n 'obj_noRooms': '2',\n 'obj_assistedLiving': 'n',\n 'obj_ityp': '0,active',\n 'obj_telekomHdTelephone': 'true',\n 'geo_land': 'Deutschland',\n 'ga_cd_via': 'standard',\n 'obj_telekomInternet': '100 MBit/s',\n 'obj_immotype': 'wohnung_miete',\n 'obj_floor': '2',\n 'obj_telekomInternetServices': 'web,email,bank,music,dl-ul,game,sd,mltstr,hd,fast-ul-dl',\n 'obj_telekomInternetProductAvailable': 'true',\n 'obj_cwId': '009.82607a30-d8b7-45d2-af3e-5c379b4e9084',\n 'ga_cd_application_requirements': 'profile1_listingtype',\n 'obj_numberOfFloors': '3',\n 'obj_noRoomsRange': '2',\n 'ga_cd_maillead_default_shown': 'true',\n 'obj_garden': 'n',\n 'obj_barrierFree': 'n',\n 'obj_regio3': 'Neukölln_Neukölln',\n 'obj_objectnumber': '3b06a0e6-a558-4d2d-b05e-79c9e7766fc1',\n 'obj_livingSpaceRange': '2',\n 'obj_regio2': 'Berlin'}"
     },
     "execution_count": 39,
     "metadata": {},
     "output_type": "execute_result"
    }
   ],
   "source": [
    "import ast\n",
    "#vals = driver.execute_script('return document.copyObj')\n",
    "driver.get(links[0])\n",
    "vals = ast.literal_eval(driver.find_element_by_tag_name('s24-ad-targeting').get_attribute('innerHTML').strip())\n",
    "\n",
    "# print(vals['obj_floor'], vals['obj_numberOfFloors'])\n",
    "vals"
   ]
  },
  {
   "cell_type": "code",
   "execution_count": 32,
   "metadata": {
    "tags": [
     "outputPrepend",
     "outputPrepend",
     "outputPrepend",
     "outputPrepend",
     "outputPrepend",
     "outputPrepend",
     "outputPrepend",
     "outputPrepend",
     "outputPrepend",
     "outputPrepend",
     "outputPrepend",
     "outputPrepend",
     "outputPrepend",
     "outputPrepend",
     "outputPrepend",
     "outputPrepend",
     "outputPrepend",
     "outputPrepend",
     "outputPrepend",
     "outputPrepend",
     "outputPrepend",
     "outputPrepend",
     "outputPrepend",
     "outputPrepend",
     "outputPrepend",
     "outputPrepend",
     "outputPrepend",
     "outputPrepend",
     "outputPrepend",
     "outputPrepend",
     "outputPrepend",
     "outputPrepend",
     "outputPrepend",
     "outputPrepend",
     "outputPrepend",
     "outputPrepend",
     "outputPrepend",
     "outputPrepend",
     "outputPrepend",
     "outputPrepend",
     "outputPrepend",
     "outputPrepend",
     "outputPrepend",
     "outputPrepend",
     "outputPrepend",
     "outputPrepend",
     "outputPrepend",
     "outputPrepend",
     "outputPrepend",
     "outputPrepend",
     "outputPrepend",
     "outputPrepend",
     "outputPrepend",
     "outputPrepend",
     "outputPrepend",
     "outputPrepend",
     "outputPrepend",
     "outputPrepend",
     "outputPrepend",
     "outputPrepend",
     "outputPrepend",
     "outputPrepend",
     "outputPrepend",
     "outputPrepend",
     "outputPrepend",
     "outputPrepend",
     "outputPrepend",
     "outputPrepend",
     "outputPrepend",
     "outputPrepend",
     "outputPrepend",
     "outputPrepend",
     "outputPrepend",
     "outputPrepend",
     "outputPrepend",
     "outputPrepend",
     "outputPrepend",
     "outputPrepend",
     "outputPrepend",
     "outputPrepend",
     "outputPrepend",
     "outputPrepend",
     "outputPrepend",
     "outputPrepend",
     "outputPrepend",
     "outputPrepend",
     "outputPrepend",
     "outputPrepend",
     "outputPrepend",
     "outputPrepend",
     "outputPrepend",
     "outputPrepend",
     "outputPrepend",
     "outputPrepend",
     "outputPrepend",
     "outputPrepend",
     "outputPrepend",
     "outputPrepend",
     "outputPrepend",
     "outputPrepend",
     "outputPrepend",
     "outputPrepend",
     "outputPrepend",
     "outputPrepend",
     "outputPrepend",
     "outputPrepend",
     "outputPrepend",
     "outputPrepend",
     "outputPrepend",
     "outputPrepend",
     "outputPrepend",
     "outputPrepend",
     "outputPrepend",
     "outputPrepend",
     "outputPrepend",
     "outputPrepend",
     "outputPrepend",
     "outputPrepend",
     "outputPrepend"
    ]
   },
   "outputs": [
    {
     "output_type": "stream",
     "name": "stdout",
     "text": "> Der Anbieter ermöglicht Besichtigungen per Live-Video. So können Sie sicher die Immobilie von Zuhause besichtigen und wie gewohnt alle Fragen zur Immobilie an den Anbieter stellen. </div> </div> <div class=\"tooltip positioning-bottom arrow-left live-video-tooltip lap-hide desk-hide\"> <div class=\"title\"> Online-Besichtigung </div> <div class=\"description\"> Der Anbieter ermöglicht Besichtigungen per Live-Video. So können Sie sicher die Immobilie von Zuhause besichtigen und wie gewohnt alle Fragen zur Immobilie an den Anbieter stellen. </div> </div>\n<span class=\"is24qa-online-besichtigung-moeglich-label palm-hide primary-background-color\" style=\"margin-right:0;\">Online-Besichtigung möglich</span> <span class=\"is24qa-online-besichtigung-moeglich-label lap-hide desk-hide primary-background-color\" style=\"margin-right:0;\">Online-Besichtigung</span>\nOnline-Besichtigung möglich\nOnline-Besichtigung\nBalkon/ Terrasse\nBalkon/ Terrasse\nKeller\nKeller\nPersonenaufzug\nPersonenaufzug\nEinbauküche\nEinbauküche\nGäste-WC\nGäste-WC\nStufenloser Zugang\nStufenloser Zugang\nWG-geeignet\nWG-geeignet\nBalkon/ Terrasse\nBalkon/ Terrasse\nKeller\nKeller\nPersonenaufzug\nPersonenaufzug\nEinbauküche\nEinbauküche\nStufenloser Zugang\nStufenloser Zugang\nBalkon/ Terrasse\nBalkon/ Terrasse\nEinbauküche\nEinbauküche\nBalkon/ Terrasse\nBalkon/ Terrasse\nKeller\nKeller\nGarten/ -mitbenutzung\nGarten/ -mitbenutzung\nBalkon/ Terrasse\nBalkon/ Terrasse\nKeller\nKeller\nPersonenaufzug\nPersonenaufzug\nEinbauküche\nEinbauküche\nGarten/ -mitbenutzung\nGarten/ -mitbenutzung\nGäste-WC\nGäste-WC\nBalkon/ Terrasse\nBalkon/ Terrasse\nKeller\nKeller\nEinbauküche\nEinbauküche\nBalkon/ Terrasse\nBalkon/ Terrasse\nKeller\nKeller\nEinbauküche\nEinbauküche\nBalkon/ Terrasse\nBalkon/ Terrasse\nKeller\nKeller\nEinbauküche\nEinbauküche\n<span class=\"tooltip-target\" style=\"padding:0;margin-right:0;background-color:white;\"> <span class=\"is24qa-online-besichtigung-moeglich-label palm-hide primary-background-color\" style=\"margin-right:0;\">Online-Besichtigung möglich</span> <span class=\"is24qa-online-besichtigung-moeglich-label lap-hide desk-hide primary-background-color\" style=\"margin-right:0;\">Online-Besichtigung</span> </span> <div class=\"tooltip positioning-right live-video-tooltip palm-hide\"> <div class=\"title\"> Online-Besichtigung </div> <div class=\"description\"> Der Anbieter ermöglicht Besichtigungen per Live-Video. So können Sie sicher die Immobilie von Zuhause besichtigen und wie gewohnt alle Fragen zur Immobilie an den Anbieter stellen. </div> </div> <div class=\"tooltip positioning-bottom arrow-left live-video-tooltip lap-hide desk-hide\"> <div class=\"title\"> Online-Besichtigung </div> <div class=\"description\"> Der Anbieter ermöglicht Besichtigungen per Live-Video. So können Sie sicher die Immobilie von Zuhause besichtigen und wie gewohnt alle Fragen zur Immobilie an den Anbieter stellen. </div> </div>\n<span class=\"is24qa-online-besichtigung-moeglich-label palm-hide primary-background-color\" style=\"margin-right:0;\">Online-Besichtigung möglich</span> <span class=\"is24qa-online-besichtigung-moeglich-label lap-hide desk-hide primary-background-color\" style=\"margin-right:0;\">Online-Besichtigung</span>\nOnline-Besichtigung möglich\nOnline-Besichtigung\nBalkon/ Terrasse\nBalkon/ Terrasse\nPersonenaufzug\nPersonenaufzug\nEinbauküche\nEinbauküche\nGäste-WC\nGäste-WC\n<span class=\"tooltip-target\" style=\"padding:0;margin-right:0;background-color:white;\"> <span class=\"is24qa-online-besichtigung-moeglich-label palm-hide primary-background-color\" style=\"margin-right:0;\">Online-Besichtigung möglich</span> <span class=\"is24qa-online-besichtigung-moeglich-label lap-hide desk-hide primary-background-color\" style=\"margin-right:0;\">Online-Besichtigung</span> </span> <div class=\"tooltip positioning-right live-video-tooltip palm-hide\"> <div class=\"title\"> Online-Besichtigung </div> <div class=\"description\"> Der Anbieter ermöglicht Besichtigungen per Live-Video. So können Sie sicher die Immobilie von Zuhause besichtigen und wie gewohnt alle Fragen zur Immobilie an den Anbieter stellen. </div> </div> <div class=\"tooltip positioning-bottom arrow-left live-video-tooltip lap-hide desk-hide\"> <div class=\"title\"> Online-Besichtigung </div> <div class=\"description\"> Der Anbieter ermöglicht Besichtigungen per Live-Video. So können Sie sicher die Immobilie von Zuhause besichtigen und wie gewohnt alle Fragen zur Immobilie an den Anbieter stellen. </div> </div>\n<span class=\"is24qa-online-besichtigung-moeglich-label palm-hide primary-background-color\" style=\"margin-right:0;\">Online-Besichtigung möglich</span> <span class=\"is24qa-online-besichtigung-moeglich-label lap-hide desk-hide primary-background-color\" style=\"margin-right:0;\">Online-Besichtigung</span>\nOnline-Besichtigung möglich\nOnline-Besichtigung\nBalkon/ Terrasse\nBalkon/ Terrasse\nPersonenaufzug\nPersonenaufzug\nEinbauküche\nEinbauküche\nBalkon/ Terrasse\nBalkon/ Terrasse\nEinbauküche\nEinbauküche\nGarten/ -mitbenutzung\nGarten/ -mitbenutzung\nBalkon/ Terrasse\nBalkon/ Terrasse\nPersonenaufzug\nPersonenaufzug\nEinbauküche\nEinbauküche\nStufenloser Zugang\nStufenloser Zugang\nBalkon/ Terrasse\nBalkon/ Terrasse\nKeller\nKeller\nPersonenaufzug\nPersonenaufzug\nEinbauküche\nEinbauküche\nBalkon/ Terrasse\nBalkon/ Terrasse\nKeller\nKeller\nPersonenaufzug\nPersonenaufzug\nEinbauküche\nEinbauküche\nBalkon/ Terrasse\nBalkon/ Terrasse\nKeller\nKeller\nPersonenaufzug\nPersonenaufzug\nEinbauküche\nEinbauküche\nBalkon/ Terrasse\nBalkon/ Terrasse\nKeller\nKeller\nPersonenaufzug\nPersonenaufzug\nEinbauküche\nEinbauküche\nBalkon/ Terrasse\nBalkon/ Terrasse\nEinbauküche\nEinbauküche\nBalkon/ Terrasse\nBalkon/ Terrasse\nKeller\nKeller\nPersonenaufzug\nPersonenaufzug\nEinbauküche\nEinbauküche\nBalkon/ Terrasse\nBalkon/ Terrasse\nKeller\nKeller\nPersonenaufzug\nPersonenaufzug\nEinbauküche\nEinbauküche\nBalkon/ Terrasse\nBalkon/ Terrasse\nKeller\nKeller\nPersonenaufzug\nPersonenaufzug\nGäste-WC\nGäste-WC\nWG-geeignet\nWG-geeignet\nBalkon/ Terrasse\nBalkon/ Terrasse\nKeller\nKeller\nEinbauküche\nEinbauküche\nBalkon/ Terrasse\nBalkon/ Terrasse\nKeller\nKeller\nPersonenaufzug\nPersonenaufzug\n<span class=\"tooltip-target\" style=\"padding:0;margin-right:0;background-color:white;\"> <span class=\"is24qa-online-besichtigung-moeglich-label palm-hide primary-background-color\" style=\"margin-right:0;\">Online-Besichtigung möglich</span> <span class=\"is24qa-online-besichtigung-moeglich-label lap-hide desk-hide primary-background-color\" style=\"margin-right:0;\">Online-Besichtigung</span> </span> <div class=\"tooltip positioning-right live-video-tooltip palm-hide\"> <div class=\"title\"> Online-Besichtigung </div> <div class=\"description\"> Der Anbieter ermöglicht Besichtigungen per Live-Video. So können Sie sicher die Immobilie von Zuhause besichtigen und wie gewohnt alle Fragen zur Immobilie an den Anbieter stellen. </div> </div> <div class=\"tooltip positioning-bottom arrow-left live-video-tooltip lap-hide desk-hide\"> <div class=\"title\"> Online-Besichtigung </div> <div class=\"description\"> Der Anbieter ermöglicht Besichtigungen per Live-Video. So können Sie sicher die Immobilie von Zuhause besichtigen und wie gewohnt alle Fragen zur Immobilie an den Anbieter stellen. </div> </div>\n<span class=\"is24qa-online-besichtigung-moeglich-label palm-hide primary-background-color\" style=\"margin-right:0;\">Online-Besichtigung möglich</span> <span class=\"is24qa-online-besichtigung-moeglich-label lap-hide desk-hide primary-background-color\" style=\"margin-right:0;\">Online-Besichtigung</span>\nOnline-Besichtigung möglich\nOnline-Besichtigung\nBalkon/ Terrasse\nBalkon/ Terrasse\nBalkon/ Terrasse\nBalkon/ Terrasse\nKeller\nKeller\n<span class=\"tooltip-target\" style=\"padding:0;margin-right:0;background-color:white;\"> <span class=\"is24qa-online-besichtigung-moeglich-label palm-hide primary-background-color\" style=\"margin-right:0;\">Online-Besichtigung möglich</span> <span class=\"is24qa-online-besichtigung-moeglich-label lap-hide desk-hide primary-background-color\" style=\"margin-right:0;\">Online-Besichtigung</span> </span> <div class=\"tooltip positioning-right live-video-tooltip palm-hide\"> <div class=\"title\"> Online-Besichtigung </div> <div class=\"description\"> Der Anbieter ermöglicht Besichtigungen per Live-Video. So können Sie sicher die Immobilie von Zuhause besichtigen und wie gewohnt alle Fragen zur Immobilie an den Anbieter stellen. </div> </div> <div class=\"tooltip positioning-bottom arrow-left live-video-tooltip lap-hide desk-hide\"> <div class=\"title\"> Online-Besichtigung </div> <div class=\"description\"> Der Anbieter ermöglicht Besichtigungen per Live-Video. So können Sie sicher die Immobilie von Zuhause besichtigen und wie gewohnt alle Fragen zur Immobilie an den Anbieter stellen. </div> </div>\n<span class=\"is24qa-online-besichtigung-moeglich-label palm-hide primary-background-color\" style=\"margin-right:0;\">Online-Besichtigung möglich</span> <span class=\"is24qa-online-besichtigung-moeglich-label lap-hide desk-hide primary-background-color\" style=\"margin-right:0;\">Online-Besichtigung</span>\nOnline-Besichtigung möglich\nOnline-Besichtigung\nEinbauküche\nEinbauküche\nGarten/ -mitbenutzung\nGarten/ -mitbenutzung\nPersonenaufzug\nPersonenaufzug\nWohnberechtigungsschein erforderlich\nWohnberechtigungsschein erforderlich\n<span class=\"tooltip-target\" style=\"padding:0;margin-right:0;background-color:white;\"> <span class=\"is24qa-online-besichtigung-moeglich-label palm-hide primary-background-color\" style=\"margin-right:0;\">Online-Besichtigung möglich</span> <span class=\"is24qa-online-besichtigung-moeglich-label lap-hide desk-hide primary-background-color\" style=\"margin-right:0;\">Online-Besichtigung</span> </span> <div class=\"tooltip positioning-right live-video-tooltip palm-hide\"> <div class=\"title\"> Online-Besichtigung </div> <div class=\"description\"> Der Anbieter ermöglicht Besichtigungen per Live-Video. So können Sie sicher die Immobilie von Zuhause besichtigen und wie gewohnt alle Fragen zur Immobilie an den Anbieter stellen. </div> </div> <div class=\"tooltip positioning-bottom arrow-left live-video-tooltip lap-hide desk-hide\"> <div class=\"title\"> Online-Besichtigung </div> <div class=\"description\"> Der Anbieter ermöglicht Besichtigungen per Live-Video. So können Sie sicher die Immobilie von Zuhause besichtigen und wie gewohnt alle Fragen zur Immobilie an den Anbieter stellen. </div> </div>\n<span class=\"is24qa-online-besichtigung-moeglich-label palm-hide primary-background-color\" style=\"margin-right:0;\">Online-Besichtigung möglich</span> <span class=\"is24qa-online-besichtigung-moeglich-label lap-hide desk-hide primary-background-color\" style=\"margin-right:0;\">Online-Besichtigung</span>\nOnline-Besichtigung möglich\nOnline-Besichtigung\nBalkon/ Terrasse\nBalkon/ Terrasse\nKeller\nKeller\nPersonenaufzug\nPersonenaufzug\nEinbauküche\nEinbauküche\nGarten/ -mitbenutzung\nGarten/ -mitbenutzung\nGäste-WC\nGäste-WC\nBalkon/ Terrasse\nBalkon/ Terrasse\nKeller\nKeller\nPersonenaufzug\nPersonenaufzug\nBalkon/ Terrasse\nBalkon/ Terrasse\nKeller\nKeller\nPersonenaufzug\nPersonenaufzug\nEinbauküche\nEinbauküche\nWohnberechtigungsschein erforderlich\nWohnberechtigungsschein erforderlich\nBalkon/ Terrasse\nBalkon/ Terrasse\nKeller\nKeller\nEinbauküche\nEinbauküche\nGäste-WC\nGäste-WC\nBalkon/ Terrasse\nBalkon/ Terrasse\nKeller\nKeller\nEinbauküche\nEinbauküche\nGäste-WC\nGäste-WC\nWG-geeignet\nWG-geeignet\nBalkon/ Terrasse\nBalkon/ Terrasse\nEinbauküche\nEinbauküche\nBalkon/ Terrasse\nBalkon/ Terrasse\nKeller\nKeller\nPersonenaufzug\nPersonenaufzug\nEinbauküche\nEinbauküche\nGäste-WC\nGäste-WC\nStufenloser Zugang\nStufenloser Zugang\nBalkon/ Terrasse\nBalkon/ Terrasse\nPersonenaufzug\nPersonenaufzug\nEinbauküche\nEinbauküche\nGäste-WC\nGäste-WC\nStufenloser Zugang\nStufenloser Zugang\nBalkon/ Terrasse\nBalkon/ Terrasse\nKeller\nKeller\nEinbauküche\nEinbauküche\nGarten/ -mitbenutzung\nGarten/ -mitbenutzung\nBalkon/ Terrasse\nBalkon/ Terrasse\nEinbauküche\nEinbauküche\nBalkon/ Terrasse\nBalkon/ Terrasse\nBalkon/ Terrasse\nBalkon/ Terrasse\nBalkon/ Terrasse\nBalkon/ Terrasse\nEinbauküche\nEinbauküche\nBalkon/ Terrasse\nBalkon/ Terrasse\nKeller\nKeller\nPersonenaufzug\nPersonenaufzug\nEinbauküche\nEinbauküche\nGäste-WC\nGäste-WC\nStufenloser Zugang\nStufenloser Zugang\nBalkon/ Terrasse\nBalkon/ Terrasse\nKeller\nKeller\nPersonenaufzug\nPersonenaufzug\nEinbauküche\nEinbauküche\nGarten/ -mitbenutzung\nGarten/ -mitbenutzung\nStufenloser Zugang\nStufenloser Zugang\nBalkon/ Terrasse\nBalkon/ Terrasse\nKeller\nKeller\nPersonenaufzug\nPersonenaufzug\nEinbauküche\nEinbauküche\nBalkon/ Terrasse\nBalkon/ Terrasse\nKeller\nKeller\nEinbauküche\nEinbauküche\nGarten/ -mitbenutzung\nGarten/ -mitbenutzung\nGäste-WC\nGäste-WC\nKeller\nKeller\nEinbauküche\nEinbauküche\nBalkon/ Terrasse\nBalkon/ Terrasse\nKeller\nKeller\nEinbauküche\nEinbauküche\nBalkon/ Terrasse\nBalkon/ Terrasse\nKeller\nKeller\nEinbauküche\nEinbauküche\nBalkon/ Terrasse\nBalkon/ Terrasse\nKeller\nKeller\nEinbauküche\nEinbauküche\nBalkon/ Terrasse\nBalkon/ Terrasse\nKeller\nKeller\nBalkon/ Terrasse\nBalkon/ Terrasse\nKeller\nKeller\nEinbauküche\nEinbauküche\nBalkon/ Terrasse\nBalkon/ Terrasse\nKeller\nKeller\nGäste-WC\nGäste-WC\nBalkon/ Terrasse\nBalkon/ Terrasse\nKeller\nKeller\nPersonenaufzug\nPersonenaufzug\nEinbauküche\nEinbauküche\nKeller\nKeller\nBalkon/ Terrasse\nBalkon/ Terrasse\nKeller\nKeller\nEinbauküche\nEinbauküche\nGäste-WC\nGäste-WC\nKeller\nKeller\nEinbauküche\nEinbauküche\nBalkon/ Terrasse\nBalkon/ Terrasse\nBalkon/ Terrasse\nBalkon/ Terrasse\nKeller\nKeller\nEinbauküche\nEinbauküche\nGarten/ -mitbenutzung\nGarten/ -mitbenutzung\nWG-geeignet\nWG-geeignet\nEinbauküche\nEinbauküche\nWG-geeignet\nWG-geeignet\nBalkon/ Terrasse\nBalkon/ Terrasse\nKeller\nKeller\nPersonenaufzug\nPersonenaufzug\nEinbauküche\nEinbauküche\nBalkon/ Terrasse\nBalkon/ Terrasse\nKeller\nKeller\nPersonenaufzug\nPersonenaufzug\nEinbauküche\nEinbauküche\nGarten/ -mitbenutzung\nGarten/ -mitbenutzung\nGäste-WC\nGäste-WC\nStufenloser Zugang\nStufenloser Zugang\nWG-geeignet\nWG-geeignet\nBalkon/ Terrasse\nBalkon/ Terrasse\nEinbauküche\nEinbauküche\nBalkon/ Terrasse\nBalkon/ Terrasse\nKeller\nKeller\nPersonenaufzug\nPersonenaufzug\nEinbauküche\nEinbauküche\nGäste-WC\nGäste-WC\nBalkon/ Terrasse\nBalkon/ Terrasse\nKeller\nKeller\nPersonenaufzug\nPersonenaufzug\nEinbauküche\nEinbauküche\nGäste-WC\nGäste-WC\nStufenloser Zugang\nStufenloser Zugang\nPersonenaufzug\nPersonenaufzug\nEinbauküche\nEinbauküche\nStufenloser Zugang\nStufenloser Zugang\nPersonenaufzug\nPersonenaufzug\nEinbauküche\nEinbauküche\nStufenloser Zugang\nStufenloser Zugang\nPersonenaufzug\nPersonenaufzug\nEinbauküche\nEinbauküche\nStufenloser Zugang\nStufenloser Zugang\nBalkon/ Terrasse\nBalkon/ Terrasse\nKeller\nKeller\nEinbauküche\nEinbauküche\nGarten/ -mitbenutzung\nGarten/ -mitbenutzung\nBalkon/ Terrasse\nBalkon/ Terrasse\nPersonenaufzug\nPersonenaufzug\nEinbauküche\nEinbauküche\nGäste-WC\nGäste-WC\nWG-geeignet\nWG-geeignet\nWohnberechtigungsschein erforderlich\nWohnberechtigungsschein erforderlich\nEinbauküche\nEinbauküche\n<span class=\"tooltip-target\" style=\"padding:0;margin-right:0;background-color:white;\"> <span class=\"is24qa-online-besichtigung-moeglich-label palm-hide primary-background-color\" style=\"margin-right:0;\">Online-Besichtigung möglich</span> <span class=\"is24qa-online-besichtigung-moeglich-label lap-hide desk-hide primary-background-color\" style=\"margin-right:0;\">Online-Besichtigung</span> </span> <div class=\"tooltip positioning-right live-video-tooltip palm-hide\"> <div class=\"title\"> Online-Besichtigung </div> <div class=\"description\"> Der Anbieter ermöglicht Besichtigungen per Live-Video. So können Sie sicher die Immobilie von Zuhause besichtigen und wie gewohnt alle Fragen zur Immobilie an den Anbieter stellen. </div> </div> <div class=\"tooltip positioning-bottom arrow-left live-video-tooltip lap-hide desk-hide\"> <div class=\"title\"> Online-Besichtigung </div> <div class=\"description\"> Der Anbieter ermöglicht Besichtigungen per Live-Video. So können Sie sicher die Immobilie von Zuhause besichtigen und wie gewohnt alle Fragen zur Immobilie an den Anbieter stellen. </div> </div>\n<span class=\"is24qa-online-besichtigung-moeglich-label palm-hide primary-background-color\" style=\"margin-right:0;\">Online-Besichtigung möglich</span> <span class=\"is24qa-online-besichtigung-moeglich-label lap-hide desk-hide primary-background-color\" style=\"margin-right:0;\">Online-Besichtigung</span>\nOnline-Besichtigung möglich\nOnline-Besichtigung\nBalkon/ Terrasse\nBalkon/ Terrasse\nPersonenaufzug\nPersonenaufzug\nEinbauküche\nEinbauküche\nBalkon/ Terrasse\nBalkon/ Terrasse\nKeller\nKeller\nEinbauküche\nEinbauküche\nGarten/ -mitbenutzung\nGarten/ -mitbenutzung\nWG-geeignet\nWG-geeignet\nBalkon/ Terrasse\nBalkon/ Terrasse\nEinbauküche\nEinbauküche\n<span class=\"tooltip-target\" style=\"padding:0;margin-right:0;background-color:white;\"> <span class=\"is24qa-online-besichtigung-moeglich-label palm-hide primary-background-color\" style=\"margin-right:0;\">Online-Besichtigung möglich</span> <span class=\"is24qa-online-besichtigung-moeglich-label lap-hide desk-hide primary-background-color\" style=\"margin-right:0;\">Online-Besichtigung</span> </span> <div class=\"tooltip positioning-right live-video-tooltip palm-hide\"> <div class=\"title\"> Online-Besichtigung </div> <div class=\"description\"> Der Anbieter ermöglicht Besichtigungen per Live-Video. So können Sie sicher die Immobilie von Zuhause besichtigen und wie gewohnt alle Fragen zur Immobilie an den Anbieter stellen. </div> </div> <div class=\"tooltip positioning-bottom arrow-left live-video-tooltip lap-hide desk-hide\"> <div class=\"title\"> Online-Besichtigung </div> <div class=\"description\"> Der Anbieter ermöglicht Besichtigungen per Live-Video. So können Sie sicher die Immobilie von Zuhause besichtigen und wie gewohnt alle Fragen zur Immobilie an den Anbieter stellen. </div> </div>\n<span class=\"is24qa-online-besichtigung-moeglich-label palm-hide primary-background-color\" style=\"margin-right:0;\">Online-Besichtigung möglich</span> <span class=\"is24qa-online-besichtigung-moeglich-label lap-hide desk-hide primary-background-color\" style=\"margin-right:0;\">Online-Besichtigung</span>\nOnline-Besichtigung möglich\nOnline-Besichtigung\nEinbauküche\nEinbauküche\nGarten/ -mitbenutzung\nGarten/ -mitbenutzung\nBalkon/ Terrasse\nBalkon/ Terrasse\nKeller\nKeller\nPersonenaufzug\nPersonenaufzug\nEinbauküche\nEinbauküche\nBalkon/ Terrasse\nBalkon/ Terrasse\nKeller\nKeller\nEinbauküche\nEinbauküche\nBalkon/ Terrasse\nBalkon/ Terrasse\nKeller\nKeller\nBalkon/ Terrasse\nBalkon/ Terrasse\nEinbauküche\nEinbauküche\nWohnberechtigungsschein erforderlich\nWohnberechtigungsschein erforderlich\nBalkon/ Terrasse\nBalkon/ Terrasse\nPersonenaufzug\nPersonenaufzug\nEinbauküche\nEinbauküche\nBalkon/ Terrasse\nBalkon/ Terrasse\nKeller\nKeller\nPersonenaufzug\nPersonenaufzug\nEinbauküche\nEinbauküche\nStufenloser Zugang\nStufenloser Zugang\nWG-geeignet\nWG-geeignet\nBalkon/ Terrasse\nBalkon/ Terrasse\nKeller\nKeller\nPersonenaufzug\nPersonenaufzug\nEinbauküche\nEinbauküche\nGarten/ -mitbenutzung\nGarten/ -mitbenutzung\nStufenloser Zugang\nStufenloser Zugang\nBalkon/ Terrasse\nBalkon/ Terrasse\nKeller\nKeller\nBalkon/ Terrasse\nBalkon/ Terrasse\nBalkon/ Terrasse\nBalkon/ Terrasse\nKeller\nKeller\nPersonenaufzug\nPersonenaufzug\nEinbauküche\nEinbauküche\nGäste-WC\nGäste-WC\nBalkon/ Terrasse\nBalkon/ Terrasse\nGarten/ -mitbenutzung\nGarten/ -mitbenutzung\nBalkon/ Terrasse\nBalkon/ Terrasse\nKeller\nKeller\nPersonenaufzug\nPersonenaufzug\nEinbauküche\nEinbauküche\nGarten/ -mitbenutzung\nGarten/ -mitbenutzung\nGäste-WC\nGäste-WC\nStufenloser Zugang\nStufenloser Zugang\nBalkon/ Terrasse\nBalkon/ Terrasse\nKeller\nKeller\nPersonenaufzug\nPersonenaufzug\nEinbauküche\nEinbauküche\nBalkon/ Terrasse\nBalkon/ Terrasse\nEinbauküche\nEinbauküche\nBalkon/ Terrasse\nBalkon/ Terrasse\nKeller\nKeller\nPersonenaufzug\nPersonenaufzug\nEinbauküche\nEinbauküche\nGarten/ -mitbenutzung\nGarten/ -mitbenutzung\nGäste-WC\nGäste-WC\nStufenloser Zugang\nStufenloser Zugang\nBalkon/ Terrasse\nBalkon/ Terrasse\nKeller\nKeller\nPersonenaufzug\nPersonenaufzug\nEinbauküche\nEinbauküche\nGäste-WC\nGäste-WC\nBalkon/ Terrasse\nBalkon/ Terrasse\nKeller\nKeller\nPersonenaufzug\nPersonenaufzug\nEinbauküche\nEinbauküche\nGarten/ -mitbenutzung\nGarten/ -mitbenutzung\nGäste-WC\nGäste-WC\nBalkon/ Terrasse\nBalkon/ Terrasse\nPersonenaufzug\nPersonenaufzug\nEinbauküche\nEinbauküche\nGäste-WC\nGäste-WC\nBalkon/ Terrasse\nBalkon/ Terrasse\nKeller\nKeller\nPersonenaufzug\nPersonenaufzug\nEinbauküche\nEinbauküche\nGäste-WC\nGäste-WC\n"
    },
    {
     "output_type": "execute_result",
     "data": {
      "text/plain": "['Garten/ -mitbenutzung',\n 'Gäste-WC',\n 'WG-geeignet',\n 'Keller',\n 'Balkon/ Terrasse',\n 'Personenaufzug',\n '<span class=\"tooltip-target\" style=\"padding:0;margin-right:0;background-color:white;\"> <span class=\"is24qa-online-besichtigung-moeglich-label palm-hide primary-background-color\" style=\"margin-right:0;\">Online-Besichtigung möglich</span> <span class=\"is24qa-online-besichtigung-moeglich-label lap-hide desk-hide primary-background-color\" style=\"margin-right:0;\">Online-Besichtigung</span> </span> <div class=\"tooltip positioning-right live-video-tooltip palm-hide\"> <div class=\"title\"> Online-Besichtigung </div> <div class=\"description\"> Der Anbieter ermöglicht Besichtigungen per Live-Video. So können Sie sicher die Immobilie von Zuhause besichtigen und wie gewohnt alle Fragen zur Immobilie an den Anbieter stellen. </div> </div> <div class=\"tooltip positioning-bottom arrow-left live-video-tooltip lap-hide desk-hide\"> <div class=\"title\"> Online-Besichtigung </div> <div class=\"description\"> Der Anbieter ermöglicht Besichtigungen per Live-Video. So können Sie sicher die Immobilie von Zuhause besichtigen und wie gewohnt alle Fragen zur Immobilie an den Anbieter stellen. </div> </div>',\n 'Online-Besichtigung möglich',\n 'Wohnberechtigungsschein erforderlich',\n 'Stufenloser Zugang',\n '<span class=\"is24qa-online-besichtigung-moeglich-label palm-hide primary-background-color\" style=\"margin-right:0;\">Online-Besichtigung möglich</span> <span class=\"is24qa-online-besichtigung-moeglich-label lap-hide desk-hide primary-background-color\" style=\"margin-right:0;\">Online-Besichtigung</span>',\n 'Online-Besichtigung',\n 'Einbauküche']"
     },
     "metadata": {},
     "execution_count": 32
    }
   ],
   "source": [
    "attr_list = []\n",
    "\n",
    "for n in range(10):\n",
    "\n",
    "    try:\n",
    "    \n",
    "        url = \"https://www.immobilienscout24.de/Suche/de/berlin/berlin/wohnung-mieten?numberofrooms=3.0-&sorting=2&enteredFrom=one_step_search&pagenumber=%s\" % (n+1)\n",
    "        driver.get(url)\n",
    "        ads = driver.find_elements_by_class_name('result-list__listing')\n",
    "\n",
    "        # tag_elements = driver.find_elements_by_xpath('//*[@role=\"presentation\"]/li') \n",
    "\n",
    "        # for e in tag_elements:\n",
    "        #     li = e.find_elements_by_tag_name('span') #get_attribute('innerHTML')\n",
    "\n",
    "        links = []\n",
    "\n",
    "        for ad in ads:\n",
    "            try:\n",
    "                links.append(ad.find_element_by_tag_name('a').get_attribute('href'))\n",
    "            except: continue\n",
    "\n",
    "        for link in links:\n",
    "\n",
    "            driver.get(link)\n",
    "            tag_elements = driver.find_element_by_class_name('boolean-listing').find_elements_by_tag_name('span') #get_attribute('innerHTML')\n",
    "\n",
    "            for e in tag_elements:\n",
    "                attr = e.get_attribute('innerHTML').strip()\n",
    "                attr_list.append(attr)\n",
    "                print(attr)\n",
    "    except: continue\n",
    "\n",
    "attr_list_unique = list(set(attr_list))\n",
    "attr_list_unique"
   ]
  },
  {
   "cell_type": "code",
   "execution_count": 56,
   "metadata": {},
   "outputs": [
    {
     "output_type": "execute_result",
     "data": {
      "text/plain": "'y'"
     },
     "metadata": {},
     "execution_count": 56
    }
   ],
   "source": [
    "[attr for attr in attr_list_unique if not attr.startswith('<')]\n",
    "\n",
    "'y' if type(True) == bool else 'n'\n",
    "\n",
    "# type(False), type(True)"
   ]
  },
  {
   "cell_type": "code",
   "execution_count": 53,
   "metadata": {},
   "outputs": [
    {
     "output_type": "execute_result",
     "data": {
      "text/plain": "({'Online Since': '',\n  'Scout Id': '119196235',\n  'Regio3': 'Lichtenberg_Lichtenberg',\n  'Regio2': 'Berlin',\n  'Street': 'Giselastr.',\n  'House Number': '31',\n  'Zip Code': '10317',\n  'Link': '',\n  'Picture': 'https://pictures.immobilienscout24.de/listings/be07effb-5a98-4f9d-94f8-64a6622635f4-1373548735.jpg/ORIG/resize/118x118%3E/extent/118x118/format/jpg/quality/80',\n  'Base Rent': '335.82',\n  'Total Rent': '455.46',\n  'No Rooms': '2',\n  'Living Space': '53.5',\n  'Floor': '5',\n  'Number Of Floors': '',\n  'Lift': 'n',\n  'Balcony': 'y',\n  'Has Kitchen': 'n',\n  'Cellar': 'n',\n  'Garden': 'n',\n  'Pets Allowed': 'no_information',\n  'WG Possible': '',\n  'WBS': '',\n  'Energy Efficiency Class': 'C',\n  'Heating Type': '',\n  'Heating Costs': '',\n  'Type Of Flat': 'apartment',\n  'Year Constructed': '1929',\n  'Newly Const': 'n',\n  'Condition': 'no_information',\n  'Interior Qual': 'no_information',\n  'Last Refurbish': '',\n  'Pricetrend': '6.53',\n  'Pricetrendbuy': '11.6',\n  'Pricetrendrent': '6.53',\n  'Contacted?': '',\n  'Contacted At': ''},\n ['',\n  '119196235',\n  'Lichtenberg_Lichtenberg',\n  'Berlin',\n  'Giselastr.',\n  '31',\n  '10317',\n  '',\n  'https://pictures.immobilienscout24.de/listings/be07effb-5a98-4f9d-94f8-64a6622635f4-1373548735.jpg/ORIG/resize/118x118%3E/extent/118x118/format/jpg/quality/80',\n  '335.82',\n  '455.46',\n  '2',\n  '53.5',\n  '5',\n  '',\n  'n',\n  'y',\n  'n',\n  'n',\n  'n',\n  'no_information',\n  '',\n  '',\n  'C',\n  '',\n  '',\n  'apartment',\n  '1929',\n  'n',\n  'no_information',\n  'no_information',\n  '',\n  '6.53',\n  '11.6',\n  '6.53',\n  '',\n  ''])"
     },
     "metadata": {},
     "execution_count": 53
    }
   ],
   "source": [
    "# True or False or False\n",
    "\n",
    "# x = 'y' if \"Wohnberechtigungsschein erforderlich\" not in attr_list_unique else 'n'\n",
    "\n",
    "from google_sheets import Google_Sheet\n",
    "\n",
    "sheet = Google_Sheet()\n",
    "\n",
    "header = sheet.get_header()\n",
    "\n",
    "r = {}\n",
    "\n",
    "# row, header\n",
    "\n",
    "for col in header:\n",
    "    try:\n",
    "        r[col] = row[col]\n",
    "    except:\n",
    "        r[col] = ''\n",
    "r, list(r.values())\n",
    ""
   ]
  },
  {
   "cell_type": "code",
   "execution_count": null,
   "metadata": {},
   "outputs": [],
   "source": [
    "tag_elements = driver.find_element_by_class_name('boolean-listing').find_elements_by_tag_name('span') #get_attribute('innerHTML')\n",
    "\n",
    "for e in tag_elements:\n",
    "    print(e.get_attribute('innerHTML').strip())"
   ]
  },
  {
   "cell_type": "code",
   "execution_count": 24,
   "metadata": {},
   "outputs": [
    {
     "output_type": "execute_result",
     "data": {
      "text/plain": "Regio1                                 Berlin\nService Charge                         119.64\nTelekom Tv Offer                ONE_YEAR_FREE\nC Id                                  5366175\nNewly Const                                 n\n                               ...           \nBarrier Free                                n\nRegio3                Lichtenberg_Lichtenberg\nObjectnumber                        23146.143\nLiving Space Range                          2\nRegio2                                 Berlin\nLength: 68, dtype: object"
     },
     "metadata": {},
     "execution_count": 24
    }
   ],
   "source": [
    "import stringcase\n",
    "\n",
    "row = pd.Series(vals)\n",
    "\n",
    "#row = row.reset_index([stringcase.titlecase(id[4:]) for id in row.index])\n",
    "\n",
    "row.index = [stringcase.titlecase(id[4:]) for id in row.index]\n",
    "\n",
    "row"
   ]
  },
  {
   "cell_type": "code",
   "execution_count": 141,
   "metadata": {},
   "outputs": [
    {
     "name": "stdout",
     "output_type": "stream",
     "text": [
      "evt_count_pm_sig\n",
      "ga_cd_application_requirements\n",
      "ga_cd_cxp_historicallisting\n",
      "ga_cd_maillead_default_shown\n",
      "ga_cd_via\n",
      "ga_cd_via_qualified\n",
      "geo_bln\n",
      "geo_krs\n",
      "geo_land\n",
      "geo_plz\n",
      "obj_ExclusiveExpose\n",
      "obj_assistedLiving\n",
      "obj_balcony\n",
      "obj_barrierFree\n",
      "obj_baseRent\n",
      "obj_baseRentRange\n",
      "obj_cId\n",
      "obj_cellar\n",
      "obj_condition\n",
      "obj_cwId\n",
      "obj_depositLink\n",
      "obj_energyEfficiencyClass\n",
      "obj_energyType\n",
      "obj_firingTypes\n",
      "obj_floor\n",
      "obj_galleryAd\n",
      "obj_garden\n",
      "obj_groupnumber\n",
      "obj_hasKitchen\n",
      "obj_heatingCosts\n",
      "obj_heatingType\n",
      "obj_houseNumber\n",
      "obj_immotype\n",
      "obj_interiorQual\n",
      "obj_ityp\n",
      "obj_lastRefurbish\n",
      "obj_lift\n",
      "obj_livingSpace\n",
      "obj_livingSpaceRange\n",
      "obj_newlyConst\n",
      "obj_noRooms\n",
      "obj_noRoomsRange\n",
      "obj_numberOfFloors\n",
      "obj_objectnumber\n",
      "obj_petsAllowed\n",
      "obj_picture\n",
      "obj_picturecount\n",
      "obj_pricetrend\n",
      "obj_pricetrendbuy\n",
      "obj_pricetrendrent\n",
      "obj_regio1\n",
      "obj_regio2\n",
      "obj_regio3\n",
      "obj_scoutId\n",
      "obj_serviceCharge\n",
      "obj_street\n",
      "obj_streetPlain\n",
      "obj_telekomDownloadSpeed\n",
      "obj_telekomHdTelephone\n",
      "obj_telekomInternet\n",
      "obj_telekomInternetProductAvailable\n",
      "obj_telekomInternetProductName\n",
      "obj_telekomInternetServices\n",
      "obj_telekomInternetTechnology\n",
      "obj_telekomInternetType\n",
      "obj_telekomInternetUrl\n",
      "obj_telekomInternetUrlMobile\n",
      "obj_telekomTrackingGroup\n",
      "obj_telekomTvOffer\n",
      "obj_telekomUploadSpeed\n",
      "obj_thermalChar\n",
      "obj_totalRent\n",
      "obj_typeOfFlat\n",
      "obj_yearConstructed\n",
      "obj_yearConstructedRange\n",
      "obj_zipCode\n"
     ]
    }
   ],
   "source": [
    "\"\"\"\n",
    "obj_energyEfficiencyClass\n",
    "obj_energyType\n",
    "obj_floor\n",
    "obj_numberOfFloors\n",
    "obj_pricetrend\n",
    "obj_pricetrendbuy\n",
    "obj_pricetrendrent\n",
    "obj_thermalChar\n",
    "obj_yearConstructed\n",
    "\"\"\"\n",
    "\n",
    "attr = []\n",
    "for v in all_vals:\n",
    "    for k in v.keys():\n",
    "        attr.append(k)\n",
    "        \n",
    "for i in np.unique(attr):\n",
    "    print(i)"
   ]
  },
  {
   "cell_type": "code",
   "execution_count": null,
   "metadata": {},
   "outputs": [],
   "source": [
    "    def config_test(self):\n",
    "\n",
    "        config = configparser.ConfigParser()\n",
    "        inifile = 'config.ini'\n",
    "        config.read(inifile)\n",
    "        formatt = \"%Y-%m-%dT%H:%M:%S\"\n",
    "\n",
    "        # for i in range(5):\n",
    "        #     t = datetime.now().strftime(format)\n",
    "        #     # bashCommand = \"cwm --rdf test.rdf --ntriples > test.nt\"\n",
    "        #     bashCommand = \"echo '%s'\" % t\n",
    "        #     bashCommand = \"ls\"\n",
    "        #     # process = subprocess.Popen(bashCommand.split(), stdout=subprocess.PIPE)\n",
    "        #     # output, error = process.communicate()\n",
    "        #     # print(process.communicate())\n",
    "        #     print(config['global']['last_queried'])\n",
    "        #     config['global']['last_queried'] = t\n",
    "        #     time.sleep(1)\n",
    "\n",
    "        # with open(inifile, 'w') as configfile:\n",
    "        #     config.write(configfile)"
   ]
  }
 ],
 "metadata": {
  "kernelspec": {
   "display_name": "Python 3",
   "language": "python",
   "name": "python3"
  },
  "language_info": {
   "codemirror_mode": {
    "name": "ipython",
    "version": 3
   },
   "file_extension": ".py",
   "mimetype": "text/x-python",
   "name": "python",
   "nbconvert_exporter": "python",
   "pygments_lexer": "ipython3",
   "version": "3.7.4-final"
  }
 },
 "nbformat": 4,
 "nbformat_minor": 2
}